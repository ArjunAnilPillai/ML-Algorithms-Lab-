{
  "nbformat": 4,
  "nbformat_minor": 0,
  "metadata": {
    "colab": {
      "name": "ML Lab 11",
      "provenance": [],
      "toc_visible": true
    },
    "kernelspec": {
      "name": "python3",
      "display_name": "Python 3"
    },
    "language_info": {
      "name": "python"
    }
  },
  "cells": [
    {
      "cell_type": "markdown",
      "metadata": {
        "id": "zfD7rQbEaDbu"
      },
      "source": [
        "#Name - Arjun A.\n",
        "#Roll number - 181CO109\n",
        "#Date of submission - 05-4-2021\n",
        "This notebook was written in google colab. <br>Link to view notebook<br>\n",
        "https://colab.research.google.com/drive/1n6YBuFNPewJGj8w4cBZaupaES98NTJ2O?usp=sharing"
      ]
    },
    {
      "cell_type": "markdown",
      "metadata": {
        "id": "wUX75dzNZzeo"
      },
      "source": [
        "# Importing packages\n",
        "Numpy - Computations <br>\n",
        "Matplotlib - for plotting a graph"
      ]
    },
    {
      "cell_type": "code",
      "metadata": {
        "id": "kGnYT8fizYNn"
      },
      "source": [
        "import numpy as np\n",
        "from matplotlib import pyplot as plt"
      ],
      "execution_count": 14,
      "outputs": []
    },
    {
      "cell_type": "markdown",
      "metadata": {
        "id": "8SpjCWc7aoUA"
      },
      "source": [
        "# Sigmoid function\n",
        "Function representing the mathematical Sigmoid function <br> \n",
        "Sig(z) = $\\frac{1}{1+e^{-z}}$"
      ]
    },
    {
      "cell_type": "code",
      "metadata": {
        "id": "lOgDgMT4zbH9"
      },
      "source": [
        "def sigmoid(z):\n",
        "  return 1 / (1 + np.exp(-z))"
      ],
      "execution_count": 15,
      "outputs": []
    },
    {
      "cell_type": "markdown",
      "metadata": {
        "id": "t6sS1buA0hi2"
      },
      "source": [
        "# Initializing all the neural network parameters\n",
        "Initializing bias = 0 <br>\n",
        "The names of the parameters are intuitive. "
      ]
    },
    {
      "cell_type": "code",
      "metadata": {
        "id": "2uYodIhGzf8t"
      },
      "source": [
        "def initializeParameters(inputFeatures, neuronsInHiddenLayers, outputFeatures):\n",
        "    W1 = np.random.randn(neuronsInHiddenLayers, inputFeatures)\n",
        "    W2 = np.random.randn(outputFeatures, neuronsInHiddenLayers)\n",
        "    b1 = np.zeros((neuronsInHiddenLayers, 1))\n",
        "    b2 = np.zeros((outputFeatures, 1))\n",
        "      \n",
        "    parameters = {\"W1\" : W1, \"b1\": b1, \"W2\" : W2, \"b2\": b2}\n",
        "    return parameters"
      ],
      "execution_count": 16,
      "outputs": []
    },
    {
      "cell_type": "markdown",
      "metadata": {
        "id": "Mc9lqNpF0tHi"
      },
      "source": [
        "# Forward Propagation"
      ]
    },
    {
      "cell_type": "code",
      "metadata": {
        "id": "c3ws-ZX9zjMs"
      },
      "source": [
        "def forwardPropagation(X, Y, parameters):\n",
        "    m = X.shape[1]\n",
        "    W1 = parameters[\"W1\"]\n",
        "    W2 = parameters[\"W2\"]\n",
        "    b1 = parameters[\"b1\"]\n",
        "    b2 = parameters[\"b2\"]\n",
        "  \n",
        "    Z1 = np.dot(W1, X) + b1\n",
        "    A1 = sigmoid(Z1)\n",
        "    Z2 = np.dot(W2, A1) + b2\n",
        "    A2 = sigmoid(Z2)\n",
        "  \n",
        "    cache = (Z1, A1, W1, b1, Z2, A2, W2, b2)\n",
        "    logprobs = np.multiply(np.log(A2), Y) + np.multiply(np.log(1 - A2), (1 - Y))\n",
        "    cost = -np.sum(logprobs) / m\n",
        "    return cost, cache, A2"
      ],
      "execution_count": 17,
      "outputs": []
    },
    {
      "cell_type": "markdown",
      "metadata": {
        "id": "SL4bbcYT0wr4"
      },
      "source": [
        "# Backward Propagation"
      ]
    },
    {
      "cell_type": "code",
      "metadata": {
        "id": "zx7hG5oJzl3k"
      },
      "source": [
        "def backwardPropagation(X, Y, cache):\n",
        "    m = X.shape[1]\n",
        "    (Z1, A1, W1, b1, Z2, A2, W2, b2) = cache\n",
        "      \n",
        "    dZ2 = A2 - Y\n",
        "    dW2 = np.dot(dZ2, A1.T) / m\n",
        "    db2 = np.sum(dZ2, axis = 1, keepdims = True)\n",
        "\n",
        "    dA1 = np.dot(W2.T, dZ2)\n",
        "    dZ1 = np.multiply(dA1, A1 * (1- A1))\n",
        "    dW1 = np.dot(dZ1, X.T) / m\n",
        "    db1 = np.sum(dZ1, axis = 1, keepdims = True) / m\n",
        "      \n",
        "    gradients = {\"dZ2\": dZ2, \"dW2\": dW2, \"db2\": db2, \"dZ1\": dZ1, \"dW1\": dW1, \"db1\": db1}\n",
        "    return gradients"
      ],
      "execution_count": 18,
      "outputs": []
    },
    {
      "cell_type": "markdown",
      "metadata": {
        "id": "bljW-W3y05l6"
      },
      "source": [
        "# Updating the weights based on the negative gradient"
      ]
    },
    {
      "cell_type": "code",
      "metadata": {
        "id": "woDCWFGZzoqk"
      },
      "source": [
        "def updateParameters(parameters, gradients, learningRate):\n",
        "    parameters[\"W1\"] = parameters[\"W1\"] - learningRate * gradients[\"dW1\"]\n",
        "    parameters[\"W2\"] = parameters[\"W2\"] - learningRate * gradients[\"dW2\"]\n",
        "    parameters[\"b1\"] = parameters[\"b1\"] - learningRate * gradients[\"db1\"]\n",
        "    parameters[\"b2\"] = parameters[\"b2\"] - learningRate * gradients[\"db2\"]\n",
        "    return parameters"
      ],
      "execution_count": 19,
      "outputs": []
    },
    {
      "cell_type": "markdown",
      "metadata": {
        "id": "mWE-EmWp1OT0"
      },
      "source": [
        "# Training the model to learn the NOR truth table"
      ]
    },
    {
      "cell_type": "code",
      "metadata": {
        "id": "h_H89KpqzreE"
      },
      "source": [
        "X = np.array([[0, 0, 1, 1], [0, 1, 0, 1]]) # NOR input\n",
        "Y = np.array([[1, 0, 0, 0]]) # NOR output"
      ],
      "execution_count": 20,
      "outputs": []
    },
    {
      "cell_type": "markdown",
      "metadata": {
        "id": "YilpgDbD1WrM"
      },
      "source": [
        "# Defining model parameters\n",
        "Number of hidden layer neurons = 2 <br>\n",
        "Number of input features = 2 <br> \n",
        "Number of output features = 1 <br>"
      ]
    },
    {
      "cell_type": "code",
      "metadata": {
        "id": "Fco8-keJzt9b"
      },
      "source": [
        "neuronsInHiddenLayers = 2 \n",
        "inputFeatures = X.shape[0] \n",
        "outputFeatures = Y.shape[0] \n",
        "parameters = initializeParameters(inputFeatures, neuronsInHiddenLayers, outputFeatures)\n",
        "epoch = 100000\n",
        "learningRate = 0.01\n",
        "losses = np.zeros((epoch, 1))\n",
        "for i in range(epoch):\n",
        "    losses[i, 0], cache, A2 = forwardPropagation(X, Y, parameters)\n",
        "    gradients = backwardPropagation(X, Y, cache)\n",
        "    parameters = updateParameters(parameters, gradients, learningRate)"
      ],
      "execution_count": 21,
      "outputs": []
    },
    {
      "cell_type": "markdown",
      "metadata": {
        "id": "GyDqrD611snN"
      },
      "source": [
        "# Testing the model with different values of x1 and x2\n",
        "Testing can be done with a different permutation of the AND inputs compared to the inputs the model was trained on. "
      ]
    },
    {
      "cell_type": "code",
      "metadata": {
        "colab": {
          "base_uri": "https://localhost:8080/"
        },
        "id": "bD4Voe8Dz9X9",
        "outputId": "db02ab21-34ef-4819-8c58-13e2d9cf6a5e"
      },
      "source": [
        "X = np.array([[1, 1, 1, 0], [0, 1, 0, 0]])\n",
        "cost, _, A2 = forwardPropagation(X, Y, parameters)\n",
        "prediction = (A2 > 0.5) * 1.0 # Measuring probability >50% and assigning values\n",
        "\n",
        "# Printing table, P -> Probability that it is 1\n",
        "print('X0| X1| P      | Y')\n",
        "print('--|---|--------|--')\n",
        "for i in range(0,4):\n",
        "  print('{} | {} | {} | {}'.format(X[0, i], X[1, i], round((float(A2[0, i])), 4), int(prediction[0,i])))\n"
      ],
      "execution_count": 22,
      "outputs": [
        {
          "output_type": "stream",
          "text": [
            "X0| X1| P      | Y\n",
            "--|---|--------|--\n",
            "1 | 0 | 0.0027 | 0\n",
            "1 | 1 | 0.0006 | 0\n",
            "1 | 0 | 0.0027 | 0\n",
            "0 | 0 | 0.9941 | 1\n"
          ],
          "name": "stdout"
        }
      ]
    },
    {
      "cell_type": "code",
      "metadata": {
        "colab": {
          "base_uri": "https://localhost:8080/"
        },
        "id": "dD2mBT9SSyKk",
        "outputId": "cca1e313-57fa-4b90-a1cd-fbb9676e87eb"
      },
      "source": [
        "X = np.array([[1, 1, 1, 0], [1, 0, 0, 1]])\n",
        "cost, _, A2 = forwardPropagation(X, Y, parameters)\n",
        "prediction = (A2 > 0.5) * 1.0 # Measuring probability >50% and assigning values\n",
        "\n",
        "# Printing table, P -> Probability that it is 1\n",
        "print('X0| X1| P      | Y')\n",
        "print('--|---|--------|--')\n",
        "for i in range(0,4):\n",
        "  print('{} | {} | {} | {}'.format(X[0, i], X[1, i], round((float(A2[0, i])), 4), int(prediction[0,i])))\n"
      ],
      "execution_count": 23,
      "outputs": [
        {
          "output_type": "stream",
          "text": [
            "X0| X1| P      | Y\n",
            "--|---|--------|--\n",
            "1 | 1 | 0.0006 | 0\n",
            "1 | 0 | 0.0027 | 0\n",
            "1 | 0 | 0.0027 | 0\n",
            "0 | 1 | 0.0026 | 0\n"
          ],
          "name": "stdout"
        }
      ]
    },
    {
      "cell_type": "code",
      "metadata": {
        "colab": {
          "base_uri": "https://localhost:8080/"
        },
        "id": "Z1xpbgjMS5Xc",
        "outputId": "434e3e01-d0ff-40ae-d596-6e9f5003d292"
      },
      "source": [
        "X = np.array([[0, 0, 0, 1], [1, 0, 1, 1]])\n",
        "cost, _, A2 = forwardPropagation(X, Y, parameters)\n",
        "prediction = (A2 > 0.5) * 1.0 # Measuring probability >50% and assigning values\n",
        "\n",
        "# Printing table, P -> Probability that it is 1\n",
        "print('X0| X1| P      | Y')\n",
        "print('--|---|--------|--')\n",
        "for i in range(0,4):\n",
        "  print('{} | {} | {} | {}'.format(X[0, i], X[1, i], round((float(A2[0, i])), 4), int(prediction[0,i])))\n"
      ],
      "execution_count": 24,
      "outputs": [
        {
          "output_type": "stream",
          "text": [
            "X0| X1| P      | Y\n",
            "--|---|--------|--\n",
            "0 | 1 | 0.0026 | 0\n",
            "0 | 0 | 0.9941 | 1\n",
            "0 | 1 | 0.0026 | 0\n",
            "1 | 1 | 0.0006 | 0\n"
          ],
          "name": "stdout"
        }
      ]
    },
    {
      "cell_type": "code",
      "metadata": {
        "colab": {
          "base_uri": "https://localhost:8080/",
          "height": 295
        },
        "id": "EvSTONEmz04G",
        "outputId": "d295c6d9-bbf8-49b1-dad4-af55c1f7fed7"
      },
      "source": [
        "# Mathplotlb for plotting a graph between the Number of epochs and Loss value. \n",
        "\n",
        "plt.figure()\n",
        "plt.plot(losses)\n",
        "plt.xlabel(\"Epochs\")\n",
        "plt.ylabel(\"Loss value\")\n",
        "plt.title('Epochs vs Loss value')\n",
        "plt.savefig('181CO109 graph.pdf')\n",
        "plt.show()"
      ],
      "execution_count": 25,
      "outputs": [
        {
          "output_type": "display_data",
          "data": {
            "image/png": "[encoded data removed]",
            "text/plain": [
              "<Figure size 432x288 with 1 Axes>"
            ]
          },
          "metadata": {
            "tags": [],
            "needs_background": "light"
          }
        }
      ]
    },
    {
      "cell_type": "markdown",
      "metadata": {
        "id": "6hBaQcWemZgv"
      },
      "source": [
        "##*Printing the parameters of the ANN* "
      ]
    },
    {
      "cell_type": "code",
      "metadata": {
        "colab": {
          "base_uri": "https://localhost:8080/"
        },
        "id": "VpKwX_8AFD1M",
        "outputId": "67eb32f6-5792-47a0-988a-1e6c483ee11a"
      },
      "source": [
        "print(parameters)"
      ],
      "execution_count": 26,
      "outputs": [
        {
          "output_type": "stream",
          "text": [
            "{'W1': array([[ 4.75565994,  4.68563177],\n",
            "       [-3.10115164, -3.18892793]]), 'b1': array([[-2.29548336],\n",
            "       [ 1.476171  ]]), 'W2': array([[-9.05808398,  5.43336577]]), 'b2': array([[1.52549002]])}\n"
          ],
          "name": "stdout"
        }
      ]
    }
  ]
}