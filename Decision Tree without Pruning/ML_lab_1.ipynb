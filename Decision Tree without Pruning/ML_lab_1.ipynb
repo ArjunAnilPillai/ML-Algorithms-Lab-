{
  "nbformat": 4,
  "nbformat_minor": 0,
  "metadata": {
    "colab": {
      "name": "ML_lab_1",
      "provenance": [],
      "collapsed_sections": []
    },
    "kernelspec": {
      "name": "python3",
      "display_name": "Python 3"
    }
  },
  "cells": [
    {
      "cell_type": "markdown",
      "metadata": {
        "id": "NG1MhNuq4Mmx"
      },
      "source": [
        "#Name - Arjun A.\r\n",
        "#Roll number - 181CO109\r\n",
        "#Date of submission - 15-01-2021\r\n",
        "This notebook was written in google colab. <br>Link to view notebook<br>\r\n",
        "https://colab.research.google.com/drive/1qoRcY1C6f_1-hggmCK1zUK4tjb2Ea0aR?usp=sharing"
      ]
    },
    {
      "cell_type": "markdown",
      "metadata": {
        "id": "nbk4mUEeTJlf"
      },
      "source": [
        "#Machine Learning Lab 1\r\n",
        "  Demonstrate working of decision tree based ID3 algorithm, C4.5 algorithm, CART algorithm. Find and compare accuracy of each algorithm. Use the iris dataset. "
      ]
    },
    {
      "cell_type": "markdown",
      "metadata": {
        "id": "vwb5XIgFT0rq"
      },
      "source": [
        "##Importing required packages"
      ]
    },
    {
      "cell_type": "code",
      "metadata": {
        "colab": {
          "base_uri": "https://localhost:8080/"
        },
        "id": "4o7I9Jo5OBv4",
        "outputId": "24e5ec1d-2cc8-4576-de5c-9caba564009b"
      },
      "source": [
        "!pip install numpy\r\n",
        "!pip install scipy\r\n",
        "!pip install -U scikit-learn\r\n",
        "!pip install pandas\r\n",
        "!pip install graphviz"
      ],
      "execution_count": 1,
      "outputs": [
        {
          "output_type": "stream",
          "text": [
            "Requirement already satisfied: numpy in /usr/local/lib/python3.6/dist-packages (1.19.5)\n",
            "Requirement already satisfied: scipy in /usr/local/lib/python3.6/dist-packages (1.4.1)\n",
            "Requirement already satisfied: numpy>=1.13.3 in /usr/local/lib/python3.6/dist-packages (from scipy) (1.19.5)\n",
            "Collecting scikit-learn\n",
            "\u001b[?25l  Downloading https://files.pythonhosted.org/packages/30/aa/db462d385c56905b731403885454188683f63c86ea68900f6f7e7558b5fa/scikit_learn-0.24.0-cp36-cp36m-manylinux2010_x86_64.whl (22.2MB)\n",
            "\u001b[K     |████████████████████████████████| 22.2MB 6.1MB/s \n",
            "\u001b[?25hRequirement already satisfied, skipping upgrade: joblib>=0.11 in /usr/local/lib/python3.6/dist-packages (from scikit-learn) (1.0.0)\n",
            "Requirement already satisfied, skipping upgrade: scipy>=0.19.1 in /usr/local/lib/python3.6/dist-packages (from scikit-learn) (1.4.1)\n",
            "Collecting threadpoolctl>=2.0.0\n",
            "  Downloading https://files.pythonhosted.org/packages/f7/12/ec3f2e203afa394a149911729357aa48affc59c20e2c1c8297a60f33f133/threadpoolctl-2.1.0-py3-none-any.whl\n",
            "Requirement already satisfied, skipping upgrade: numpy>=1.13.3 in /usr/local/lib/python3.6/dist-packages (from scikit-learn) (1.19.5)\n",
            "Installing collected packages: threadpoolctl, scikit-learn\n",
            "  Found existing installation: scikit-learn 0.22.2.post1\n",
            "    Uninstalling scikit-learn-0.22.2.post1:\n",
            "      Successfully uninstalled scikit-learn-0.22.2.post1\n",
            "Successfully installed scikit-learn-0.24.0 threadpoolctl-2.1.0\n",
            "Requirement already satisfied: pandas in /usr/local/lib/python3.6/dist-packages (1.1.5)\n",
            "Requirement already satisfied: pytz>=2017.2 in /usr/local/lib/python3.6/dist-packages (from pandas) (2018.9)\n",
            "Requirement already satisfied: python-dateutil>=2.7.3 in /usr/local/lib/python3.6/dist-packages (from pandas) (2.8.1)\n",
            "Requirement already satisfied: numpy>=1.15.4 in /usr/local/lib/python3.6/dist-packages (from pandas) (1.19.5)\n",
            "Requirement already satisfied: six>=1.5 in /usr/local/lib/python3.6/dist-packages (from python-dateutil>=2.7.3->pandas) (1.15.0)\n",
            "Requirement already satisfied: graphviz in /usr/local/lib/python3.6/dist-packages (0.10.1)\n"
          ],
          "name": "stdout"
        }
      ]
    },
    {
      "cell_type": "code",
      "metadata": {
        "id": "gohtii8yPI-M"
      },
      "source": [
        "import numpy as np \r\n",
        "import pandas as pd \r\n",
        "import graphviz\r\n",
        "from sklearn.model_selection import train_test_split \r\n",
        "from sklearn.tree import DecisionTreeClassifier, plot_tree, export_graphviz\r\n",
        "from sklearn.metrics import accuracy_score \r\n",
        "from sklearn.metrics import classification_report \r\n",
        "from sklearn.datasets import load_iris"
      ],
      "execution_count": 2,
      "outputs": []
    },
    {
      "cell_type": "markdown",
      "metadata": {
        "id": "mSNguicKSUhY"
      },
      "source": [
        "##Importing data from the iris dataset\r\n",
        "Using the load_iris function from sklearn, importing the iris dataset\r\n",
        "\r\n",
        "https://scikit-learn.org/stable/modules/generated/sklearn.datasets.load_iris.html#sklearn.datasets.load_iris"
      ]
    },
    {
      "cell_type": "code",
      "metadata": {
        "id": "UoAjKGwRPLYH"
      },
      "source": [
        "# Function to import data\r\n",
        "def importdata(): \r\n",
        "\r\n",
        "  irisData = load_iris()\r\n",
        "  X = irisData.data\r\n",
        "  Y = irisData.target\r\n",
        "  names = irisData.target_names\r\n",
        "  featureName = irisData.feature_names\r\n",
        "  print(type(X))\r\n",
        "  print(type(Y))\r\n",
        "  print(names)\r\n",
        "  \r\n",
        "  return X, Y, names, featureName"
      ],
      "execution_count": 3,
      "outputs": []
    },
    {
      "cell_type": "code",
      "metadata": {
        "colab": {
          "base_uri": "https://localhost:8080/"
        },
        "id": "GtJPFJ3wSwUf",
        "outputId": "876fe5cb-0ef5-45ff-c6bc-f8f879444fdd"
      },
      "source": [
        "X, Y, irisClassNames, irisFeatureNames = importdata()"
      ],
      "execution_count": 4,
      "outputs": [
        {
          "output_type": "stream",
          "text": [
            "<class 'numpy.ndarray'>\n",
            "<class 'numpy.ndarray'>\n",
            "['setosa' 'versicolor' 'virginica']\n"
          ],
          "name": "stdout"
        }
      ]
    },
    {
      "cell_type": "markdown",
      "metadata": {
        "id": "CO4D9ViCWO9h"
      },
      "source": [
        "##Splitting the data into train and test sets\r\n",
        " Splitting the data in the ratio of 7:3. (70% training and 30% testing)"
      ]
    },
    {
      "cell_type": "code",
      "metadata": {
        "id": "gBOcVcrbXZoa"
      },
      "source": [
        "def splitdataset(X, Y): \r\n",
        "\r\n",
        "  X_train, X_test, y_train, y_test = train_test_split(X, Y, test_size = 0.3, random_state = 100) #Specifying random_state to get the same dataset split everytime \r\n",
        "\t\r\n",
        "  return X, Y, X_train, X_test, y_train, y_test "
      ],
      "execution_count": 5,
      "outputs": []
    },
    {
      "cell_type": "code",
      "metadata": {
        "colab": {
          "base_uri": "https://localhost:8080/"
        },
        "id": "Xq7whDXkZyyv",
        "outputId": "c5609d2a-0298-4012-8d7b-b4eaa7294e5c"
      },
      "source": [
        "X, Y, X_train, X_test, y_train, y_test = splitdataset(X, Y)\r\n",
        "\r\n",
        "#Use to print the entire dataset\r\n",
        "#print(X, Y, X_train, X_test, y_train, y_test, sep = '\\n\\n')\r\n",
        "\r\n",
        "#Printing size of the split\r\n",
        "print('Test dataset size\\nX_test -', len(X_test), '\\ny_test -', len(y_test), '\\n')\r\n",
        "print('Train dataset size\\nX_train -', len(X_train), '\\ny_train -', len(y_train))"
      ],
      "execution_count": 6,
      "outputs": [
        {
          "output_type": "stream",
          "text": [
            "Test dataset size\n",
            "X_test - 45 \n",
            "y_test - 45 \n",
            "\n",
            "Train dataset size\n",
            "X_train - 105 \n",
            "y_train - 105\n"
          ],
          "name": "stdout"
        }
      ]
    },
    {
      "cell_type": "markdown",
      "metadata": {
        "id": "1sGdHb8RjRcA"
      },
      "source": [
        "##Decision tree - ID3 algorithm\r\n",
        "Using sklearn's DecisionTreeClassifier to implement ID3 decision tree algorithm.  <br>\r\n",
        "The 'max_depth' parameter is set to 10 i.e maximum depth of the tree is set to 10. <br>\r\n",
        "The 'splitter' is set to 'best' to ensure that the attribute with the highest information gain is selected everytime.<br>\r\n",
        "The 'random_state' attribute is set to 100 to ensure that the same decision tree is obtained each time.  \r\n"
      ]
    },
    {
      "cell_type": "code",
      "metadata": {
        "colab": {
          "base_uri": "https://localhost:8080/"
        },
        "id": "HtQKjyA2lRLG",
        "outputId": "056b5b08-ff15-4a83-b40f-1febe349ab65"
      },
      "source": [
        "modelID3 = DecisionTreeClassifier(criterion = 'entropy', max_depth = 10, splitter = 'best', random_state = 100)\r\n",
        "modelID3.fit(X_train, y_train)"
      ],
      "execution_count": 7,
      "outputs": [
        {
          "output_type": "execute_result",
          "data": {
            "text/plain": [
              "DecisionTreeClassifier(criterion='entropy', max_depth=10, random_state=100)"
            ]
          },
          "metadata": {
            "tags": []
          },
          "execution_count": 7
        }
      ]
    },
    {
      "cell_type": "markdown",
      "metadata": {
        "id": "HawRcdQ2M58-"
      },
      "source": [
        "##Decision tree - C4.5 algorithm\r\n",
        "Refer this for program <br>https://github.com/ArjunAnilPillai/scikit-learn-C4.5-tree-classifier.git"
      ]
    },
    {
      "cell_type": "code",
      "metadata": {
        "colab": {
          "base_uri": "https://localhost:8080/"
        },
        "id": "UpDCdk8eNAdx",
        "outputId": "c5250289-0285-46cd-c697-05cc3f63574d"
      },
      "source": [
        "#Code to clone package for C4.5 decision tree\r\n",
        "!git clone https://github.com/ArjunAnilPillai/scikit-learn-C4.5-tree-classifier.git"
      ],
      "execution_count": 8,
      "outputs": [
        {
          "output_type": "stream",
          "text": [
            "Cloning into 'scikit-learn-C4.5-tree-classifier'...\n",
            "remote: Enumerating objects: 4, done.\u001b[K\n",
            "remote: Counting objects: 100% (4/4), done.\u001b[K\n",
            "remote: Compressing objects: 100% (4/4), done.\u001b[K\n",
            "remote: Total 21 (delta 0), reused 2 (delta 0), pack-reused 17\u001b[K\n",
            "Unpacking objects: 100% (21/21), done.\n"
          ],
          "name": "stdout"
        }
      ]
    },
    {
      "cell_type": "code",
      "metadata": {
        "colab": {
          "base_uri": "https://localhost:8080/",
          "height": 35
        },
        "id": "1gO9s3LvyIlv",
        "outputId": "58c17336-b3ac-4a84-9fe4-45d8dca81cee"
      },
      "source": [
        "'''#Code to pull some code from my github\r\n",
        "%cd scikit-learn-C4.5-tree-classifier/ \r\n",
        "!ls\r\n",
        "!git pull\r\n",
        "%cd ..\r\n",
        "!ls'''"
      ],
      "execution_count": 9,
      "outputs": [
        {
          "output_type": "execute_result",
          "data": {
            "application/vnd.google.colaboratory.intrinsic+json": {
              "type": "string"
            },
            "text/plain": [
              "'#Code to pull some code from my github\\n%cd scikit-learn-C4.5-tree-classifier/ \\n!ls\\n!git pull\\n%cd ..\\n!ls'"
            ]
          },
          "metadata": {
            "tags": []
          },
          "execution_count": 9
        }
      ]
    },
    {
      "cell_type": "code",
      "metadata": {
        "id": "Ppf0DuncNP0Z"
      },
      "source": [
        "import sys\r\n",
        "sys.path.append('/content/scikit-learn-C4.5-tree-classifier')"
      ],
      "execution_count": 10,
      "outputs": []
    },
    {
      "cell_type": "code",
      "metadata": {
        "colab": {
          "base_uri": "https://localhost:8080/"
        },
        "id": "_WYKwjLJNbcF",
        "outputId": "9765a342-5486-46c8-d4f9-0df45fe244d0"
      },
      "source": [
        "from c45 import C45\r\n",
        "modelC45 = C45(irisFeatureNames)\r\n",
        "modelC45.fit(X_train, y_train)"
      ],
      "execution_count": 11,
      "outputs": [
        {
          "output_type": "execute_result",
          "data": {
            "text/plain": [
              "C45(attrNames=['sepallengthcm', 'sepalwidthcm', 'petallengthcm',\n",
              "               'petalwidthcm'])"
            ]
          },
          "metadata": {
            "tags": []
          },
          "execution_count": 11
        }
      ]
    },
    {
      "cell_type": "markdown",
      "metadata": {
        "id": "FGBAHBv0s63t"
      },
      "source": [
        "##Decision tree - CART algorithm\r\n",
        "Using sklearn's DecisionTreeClassifier to implement CART decision tree algorithm.  <br>\r\n",
        "The 'maxdepth' parameter is set to 10 i.e maximum depth of the tree is set to 10. <br>\r\n",
        "The 'splitter' is set to 'best' to ensure that the attribute with the highest gini index is selected everytime.<br>\r\n",
        "The 'random_state' attribute is set to 100 to ensure that the same decision tree is obtained each time.  "
      ]
    },
    {
      "cell_type": "code",
      "metadata": {
        "colab": {
          "base_uri": "https://localhost:8080/"
        },
        "id": "EGi5Q3HdByZB",
        "outputId": "48dd4512-4e23-44fc-b721-ae032b7a97f6"
      },
      "source": [
        "modelCART = DecisionTreeClassifier(criterion = 'gini', max_depth = 10, splitter = 'best', random_state = 100)\r\n",
        "modelCART.fit(X_train, y_train)"
      ],
      "execution_count": 12,
      "outputs": [
        {
          "output_type": "execute_result",
          "data": {
            "text/plain": [
              "DecisionTreeClassifier(max_depth=10, random_state=100)"
            ]
          },
          "metadata": {
            "tags": []
          },
          "execution_count": 12
        }
      ]
    },
    {
      "cell_type": "markdown",
      "metadata": {
        "id": "AIDjWafMpodX"
      },
      "source": [
        "##Function to measure accuracy \r\n",
        "Using sklearn's classification_report and accuracy_score."
      ]
    },
    {
      "cell_type": "code",
      "metadata": {
        "id": "FmAxi_cZp8F2"
      },
      "source": [
        "def measuringAccuracy(y_test, y_predict):\r\n",
        "  print('Accuracy -', (accuracy_score(y_test, y_predict) * 100))\r\n",
        "  print('Report\\n', classification_report(y_test, y_predict))"
      ],
      "execution_count": 13,
      "outputs": []
    },
    {
      "cell_type": "markdown",
      "metadata": {
        "id": "0k9eVjJ3qeq6"
      },
      "source": [
        "##Calculating accuracy and generating report for the different algorithms"
      ]
    },
    {
      "cell_type": "code",
      "metadata": {
        "colab": {
          "base_uri": "https://localhost:8080/",
          "height": 485
        },
        "id": "BnbtxkX7qdtN",
        "outputId": "639a46ce-b6ea-4bb4-b36d-b87b579c1c8a"
      },
      "source": [
        "#ID3 decision tree\r\n",
        "print(\"ID3 decision tree\")\r\n",
        "y_predID3 = modelID3.predict(X_test)\r\n",
        "measuringAccuracy(y_test, y_predID3)\r\n",
        "plot_tree(modelID3)\r\n",
        "\r\n",
        "#Graphviz for drawing tree\r\n",
        "dot_data = export_graphviz(modelID3, out_file=None) \r\n",
        "graph = graphviz.Source(dot_data) \r\n",
        "graph.render(\"ID3_Decision_tree\") "
      ],
      "execution_count": 14,
      "outputs": [
        {
          "output_type": "stream",
          "text": [
            "ID3 decision tree\n",
            "Accuracy - 95.55555555555556\n",
            "Report\n",
            "               precision    recall  f1-score   support\n",
            "\n",
            "           0       1.00      1.00      1.00        16\n",
            "           1       0.91      0.91      0.91        11\n",
            "           2       0.94      0.94      0.94        18\n",
            "\n",
            "    accuracy                           0.96        45\n",
            "   macro avg       0.95      0.95      0.95        45\n",
            "weighted avg       0.96      0.96      0.96        45\n",
            "\n"
          ],
          "name": "stdout"
        },
        {
          "output_type": "execute_result",
          "data": {
            "application/vnd.google.colaboratory.intrinsic+json": {
              "type": "string"
            },
            "text/plain": [
              "'ID3_Decision_tree.pdf'"
            ]
          },
          "metadata": {
            "tags": []
          },
          "execution_count": 14
        },
        {
          "output_type": "display_data",
          "data": {
            "image/png": "[encoded data removed]",
            "text/plain": [
              "<Figure size 432x288 with 1 Axes>"
            ]
          },
          "metadata": {
            "tags": [],
            "needs_background": "light"
          }
        }
      ]
    },
    {
      "cell_type": "code",
      "metadata": {
        "colab": {
          "base_uri": "https://localhost:8080/"
        },
        "id": "GCyaaBwjbun_",
        "outputId": "169a9f4d-2979-42c9-a75e-27d02afed328"
      },
      "source": [
        "#C45 decision tree\r\n",
        "print(\"C45 decision tree\")\r\n",
        "y_predictC45 = modelC45.predict(X_test)\r\n",
        "measuringAccuracy(y_test, y_predictC45)\r\n",
        "\r\n",
        "#Printing XML for the decision tree and copying into .txt file\r\n",
        "xmlC45String, xmlC45 = modelC45.printTree()\r\n",
        "print(xmlC45String)\r\n",
        "\r\n",
        "# Write xml into file\r\n",
        "with open('/content/C45_Decision_tree.txt', 'w') as writefile:\r\n",
        "  writefile.write(xmlC45String)"
      ],
      "execution_count": 15,
      "outputs": [
        {
          "output_type": "stream",
          "text": [
            "C45 decision tree\n",
            "Accuracy - 95.55555555555556\n",
            "Report\n",
            "               precision    recall  f1-score   support\n",
            "\n",
            "           0       1.00      1.00      1.00        16\n",
            "           1       0.91      0.91      0.91        11\n",
            "           2       0.94      0.94      0.94        18\n",
            "\n",
            "    accuracy                           0.96        45\n",
            "   macro avg       0.95      0.95      0.95        45\n",
            "weighted avg       0.96      0.96      0.96        45\n",
            "\n",
            "<?xml version=\"1.0\" ?>\r\n",
            "<DecisionTree>\r\n",
            "\t<petallengthcm flag=\"l\" p=\"0.324\" value=\"3.0\">0</petallengthcm>\r\n",
            "\t<petallengthcm flag=\"r\" p=\"0.676\" value=\"3.0\">\r\n",
            "\t\t<petalwidthcm flag=\"l\" p=\"0.577\" value=\"1.7\">\r\n",
            "\t\t\t<petallengthcm flag=\"l\" p=\"0.902\" value=\"5.1\">1</petallengthcm>\r\n",
            "\t\t\t<petallengthcm flag=\"r\" p=\"0.098\" value=\"5.1\">\r\n",
            "\t\t\t\t<sepallengthcm flag=\"l\" p=\"0.25\" value=\"6.1\">1</sepallengthcm>\r\n",
            "\t\t\t\t<sepallengthcm flag=\"r\" p=\"0.75\" value=\"6.1\">2</sepallengthcm>\r\n",
            "\t\t\t</petallengthcm>\r\n",
            "\t\t</petalwidthcm>\r\n",
            "\t\t<petalwidthcm flag=\"r\" p=\"0.423\" value=\"1.7\">\r\n",
            "\t\t\t<petallengthcm flag=\"l\" p=\"0.133\" value=\"4.9\">\r\n",
            "\t\t\t\t<sepalwidthcm flag=\"l\" p=\"0.75\" value=\"3.2\">2</sepalwidthcm>\r\n",
            "\t\t\t\t<sepalwidthcm flag=\"r\" p=\"0.25\" value=\"3.2\">1</sepalwidthcm>\r\n",
            "\t\t\t</petallengthcm>\r\n",
            "\t\t\t<petallengthcm flag=\"r\" p=\"0.867\" value=\"4.9\">2</petallengthcm>\r\n",
            "\t\t</petalwidthcm>\r\n",
            "\t</petallengthcm>\r\n",
            "</DecisionTree>\r\n",
            "\n"
          ],
          "name": "stdout"
        }
      ]
    },
    {
      "cell_type": "code",
      "metadata": {
        "colab": {
          "base_uri": "https://localhost:8080/",
          "height": 485
        },
        "id": "bD3n7I5tDi0V",
        "outputId": "9683cbbb-71b4-4cd6-d2d6-fe354df2d667"
      },
      "source": [
        "#CART decision tree\r\n",
        "print(\"CART decision tree\")\r\n",
        "y_predCART = modelCART.predict(X_test)\r\n",
        "measuringAccuracy(y_test, y_predCART)\r\n",
        "plot_tree(modelCART)\r\n",
        "\r\n",
        "#Graphviz for drawing tree\r\n",
        "dot_data = export_graphviz(modelCART, out_file=None) \r\n",
        "graph = graphviz.Source(dot_data) \r\n",
        "graph.render(\"CART_Decision_tree\") "
      ],
      "execution_count": 16,
      "outputs": [
        {
          "output_type": "stream",
          "text": [
            "CART decision tree\n",
            "Accuracy - 95.55555555555556\n",
            "Report\n",
            "               precision    recall  f1-score   support\n",
            "\n",
            "           0       1.00      1.00      1.00        16\n",
            "           1       0.91      0.91      0.91        11\n",
            "           2       0.94      0.94      0.94        18\n",
            "\n",
            "    accuracy                           0.96        45\n",
            "   macro avg       0.95      0.95      0.95        45\n",
            "weighted avg       0.96      0.96      0.96        45\n",
            "\n"
          ],
          "name": "stdout"
        },
        {
          "output_type": "execute_result",
          "data": {
            "application/vnd.google.colaboratory.intrinsic+json": {
              "type": "string"
            },
            "text/plain": [
              "'CART_Decision_tree.pdf'"
            ]
          },
          "metadata": {
            "tags": []
          },
          "execution_count": 16
        },
        {
          "output_type": "display_data",
          "data": {
            "image/png": "[encoded data removed]",
            "text/plain": [
              "<Figure size 432x288 with 1 Axes>"
            ]
          },
          "metadata": {
            "tags": [],
            "needs_background": "light"
          }
        }
      ]
    }
  ]
}