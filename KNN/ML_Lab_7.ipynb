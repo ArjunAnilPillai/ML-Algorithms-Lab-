{
  "nbformat": 4,
  "nbformat_minor": 0,
  "metadata": {
    "colab": {
      "name": "ML Lab 7",
      "provenance": [],
      "collapsed_sections": []
    },
    "kernelspec": {
      "name": "python3",
      "display_name": "Python 3"
    }
  },
  "cells": [
    {
      "cell_type": "markdown",
      "metadata": {
        "id": "zfD7rQbEaDbu"
      },
      "source": [
        "#Name - Arjun A.\r\n",
        "#Roll number - 181CO109\r\n",
        "#Date of submission - 5-3-2021\r\n",
        "This notebook was written in google colab. <br>Link to view notebook<br>\r\n",
        "https://colab.research.google.com/drive/1hbkA1vmIOymqcCIICyrZ3WqB4fEHeQIb?usp=sharing"
      ]
    },
    {
      "cell_type": "markdown",
      "metadata": {
        "id": "LpZRvlqrLM1g"
      },
      "source": [
        "#ML Lab 7 - KNN algorithm\r\n",
        "This notebook is used to implement the kth Nearest Neighbours algorithm to classify a credit default dataset. "
      ]
    },
    {
      "cell_type": "markdown",
      "metadata": {
        "id": "hfmdtJRBik33"
      },
      "source": [
        "##Importing necessary packages\r\n"
      ]
    },
    {
      "cell_type": "code",
      "metadata": {
        "id": "3B4W9XOzgc1V"
      },
      "source": [
        "from sklearn.neighbors import KNeighborsClassifier \n",
        "from sklearn.model_selection import train_test_split \n",
        "from sklearn.datasets import load_iris \n",
        "from sklearn.metrics import confusion_matrix\n",
        "import numpy as np \n",
        "import matplotlib.pyplot as plt\n",
        "import pandas as pd\n",
        "import sys"
      ],
      "execution_count": 1,
      "outputs": []
    },
    {
      "cell_type": "markdown",
      "metadata": {
        "id": "At23KgJbsNbZ"
      },
      "source": [
        "##Loading the credit default dataset from my github"
      ]
    },
    {
      "cell_type": "code",
      "metadata": {
        "colab": {
          "base_uri": "https://localhost:8080/"
        },
        "id": "isH3MvsWQplM",
        "outputId": "62f47dd6-f5b9-4412-f289-eac5080504f0"
      },
      "source": [
        "!git clone https://github.com/ArjunAnilPillai/Datasets.git"
      ],
      "execution_count": 2,
      "outputs": [
        {
          "output_type": "stream",
          "text": [
            "Cloning into 'Datasets'...\n",
            "remote: Enumerating objects: 6, done.\u001b[K\n",
            "remote: Counting objects: 100% (6/6), done.\u001b[K\n",
            "remote: Compressing objects: 100% (5/5), done.\u001b[K\n",
            "remote: Total 6 (delta 0), reused 0 (delta 0), pack-reused 0\u001b[K\n",
            "Unpacking objects: 100% (6/6), done.\n"
          ],
          "name": "stdout"
        }
      ]
    },
    {
      "cell_type": "code",
      "metadata": {
        "id": "H1gGu12XQv3t"
      },
      "source": [
        "sys.path.append('/content/Datasets')"
      ],
      "execution_count": 3,
      "outputs": []
    },
    {
      "cell_type": "code",
      "metadata": {
        "id": "B2Dpj-V8ggvC",
        "colab": {
          "base_uri": "https://localhost:8080/",
          "height": 35
        },
        "outputId": "940d4fe4-323c-4413-c8bb-4bf03eac9136"
      },
      "source": [
        "df = pd.read_excel(r'Datasets/credit.xls')\n",
        "df = df.apply(pd.to_numeric)\n",
        "\n",
        "#Dropping the 'ID' column as it is useless\n",
        "df = df.drop(['ID'], axis=1)\n",
        "\n",
        "#Converting to numpy for ease of training using sklearn\n",
        "df = df.to_numpy()\n",
        "X = df[:, 0:-1]\n",
        "y = df[:, -1]\n",
        "\n",
        "'''print(np.shape(X))\n",
        "print(np.shape(y))\n",
        "print(y)'''"
      ],
      "execution_count": 4,
      "outputs": [
        {
          "output_type": "execute_result",
          "data": {
            "application/vnd.google.colaboratory.intrinsic+json": {
              "type": "string"
            },
            "text/plain": [
              "'print(np.shape(X))\\nprint(np.shape(y))\\nprint(y)'"
            ]
          },
          "metadata": {
            "tags": []
          },
          "execution_count": 4
        }
      ]
    },
    {
      "cell_type": "markdown",
      "metadata": {
        "id": "QBkxAJfkby4j"
      },
      "source": [
        "##Splitting the data into train and test sets\r\n",
        " Splitting the data in the ratio of 7:3. (70% training and 30% testing)"
      ]
    },
    {
      "cell_type": "code",
      "metadata": {
        "id": "gBOcVcrbXZoa"
      },
      "source": [
        "def splitdataset(X, Y): \r\n",
        "\r\n",
        "  X_train, X_test, y_train, y_test = train_test_split(X, Y, test_size = 0.3, random_state = 100) #Specifying random_state to get the same dataset split everytime \r\n",
        "\t\r\n",
        "  return X, Y, X_train, X_test, y_train, y_test "
      ],
      "execution_count": 5,
      "outputs": []
    },
    {
      "cell_type": "code",
      "metadata": {
        "colab": {
          "base_uri": "https://localhost:8080/"
        },
        "id": "Xq7whDXkZyyv",
        "outputId": "d782d925-5f41-435a-e1a0-08567bbd4dfd"
      },
      "source": [
        "X, Y, X_train, X_test, y_train, y_test = splitdataset(X, y)\r\n",
        "\r\n",
        "#Use to print the entire dataset\r\n",
        "#print(X, Y, X_train, X_test, y_train, y_test, sep = '\\n\\n')\r\n",
        "\r\n",
        "#Printing size of the split\r\n",
        "print('Test dataset size\\nX_test -', len(X_test), '\\ny_test -', len(y_test), '\\n')\r\n",
        "print('Train dataset size\\nX_train -', len(X_train), '\\ny_train -', len(y_train))"
      ],
      "execution_count": 6,
      "outputs": [
        {
          "output_type": "stream",
          "text": [
            "Test dataset size\n",
            "X_test - 9000 \n",
            "y_test - 9000 \n",
            "\n",
            "Train dataset size\n",
            "X_train - 21000 \n",
            "y_train - 21000\n"
          ],
          "name": "stdout"
        }
      ]
    },
    {
      "cell_type": "markdown",
      "metadata": {
        "id": "BjK-LmB_uFK2"
      },
      "source": [
        "##Considering all k values from 1 to 10"
      ]
    },
    {
      "cell_type": "code",
      "metadata": {
        "id": "iXaaCDo5gj2M"
      },
      "source": [
        "knn = []\n",
        "for i in range(1, 11):\n",
        "  knnModel = KNeighborsClassifier(n_neighbors=i, metric = 'euclidean')\n",
        "  knn.append(knnModel) "
      ],
      "execution_count": 7,
      "outputs": []
    },
    {
      "cell_type": "markdown",
      "metadata": {
        "id": "kYNwLaAGsRyG"
      },
      "source": [
        "##Training all models on the train dataset"
      ]
    },
    {
      "cell_type": "code",
      "metadata": {
        "id": "fTfeGLjLgm8f"
      },
      "source": [
        "for i in range(10):\n",
        "  knn[i].fit(X_train, y_train) "
      ],
      "execution_count": 8,
      "outputs": []
    },
    {
      "cell_type": "markdown",
      "metadata": {
        "id": "JXFKQnNquSgN"
      },
      "source": [
        "##Finding accuracy for all models using the test dataset"
      ]
    },
    {
      "cell_type": "code",
      "metadata": {
        "colab": {
          "base_uri": "https://localhost:8080/"
        },
        "id": "lyR9KzEFsXY9",
        "outputId": "3be73347-ec4c-4bfb-d18f-573312ce33bf"
      },
      "source": [
        "accuracyKNN = []\r\n",
        "for i in range(10):\r\n",
        "  print('k = {}'.format(i + 1))\r\n",
        "  print(knn[i])\r\n",
        "  accuracyKNN.append(knn[i].score(X_test, y_test))\r\n",
        "  y_pred = knn[i].predict(X_test)\r\n",
        "  print(confusion_matrix(y_test, y_pred))\r\n",
        "  print()"
      ],
      "execution_count": 9,
      "outputs": [
        {
          "output_type": "stream",
          "text": [
            "k = 1\n",
            "KNeighborsClassifier(algorithm='auto', leaf_size=30, metric='euclidean',\n",
            "                     metric_params=None, n_jobs=None, n_neighbors=1, p=2,\n",
            "                     weights='uniform')\n",
            "[[5605 1322]\n",
            " [1481  592]]\n",
            "\n",
            "k = 2\n",
            "KNeighborsClassifier(algorithm='auto', leaf_size=30, metric='euclidean',\n",
            "                     metric_params=None, n_jobs=None, n_neighbors=2, p=2,\n",
            "                     weights='uniform')\n",
            "[[6591  336]\n",
            " [1857  216]]\n",
            "\n",
            "k = 3\n",
            "KNeighborsClassifier(algorithm='auto', leaf_size=30, metric='euclidean',\n",
            "                     metric_params=None, n_jobs=None, n_neighbors=3, p=2,\n",
            "                     weights='uniform')\n",
            "[[6136  791]\n",
            " [1645  428]]\n",
            "\n",
            "k = 4\n",
            "KNeighborsClassifier(algorithm='auto', leaf_size=30, metric='euclidean',\n",
            "                     metric_params=None, n_jobs=None, n_neighbors=4, p=2,\n",
            "                     weights='uniform')\n",
            "[[6655  272]\n",
            " [1862  211]]\n",
            "\n",
            "k = 5\n",
            "KNeighborsClassifier(algorithm='auto', leaf_size=30, metric='euclidean',\n",
            "                     metric_params=None, n_jobs=None, n_neighbors=5, p=2,\n",
            "                     weights='uniform')\n",
            "[[6377  550]\n",
            " [1715  358]]\n",
            "\n",
            "k = 6\n",
            "KNeighborsClassifier(algorithm='auto', leaf_size=30, metric='euclidean',\n",
            "                     metric_params=None, n_jobs=None, n_neighbors=6, p=2,\n",
            "                     weights='uniform')\n",
            "[[6675  252]\n",
            " [1871  202]]\n",
            "\n",
            "k = 7\n",
            "KNeighborsClassifier(algorithm='auto', leaf_size=30, metric='euclidean',\n",
            "                     metric_params=None, n_jobs=None, n_neighbors=7, p=2,\n",
            "                     weights='uniform')\n",
            "[[6505  422]\n",
            " [1768  305]]\n",
            "\n",
            "k = 8\n",
            "KNeighborsClassifier(algorithm='auto', leaf_size=30, metric='euclidean',\n",
            "                     metric_params=None, n_jobs=None, n_neighbors=8, p=2,\n",
            "                     weights='uniform')\n",
            "[[6687  240]\n",
            " [1888  185]]\n",
            "\n",
            "k = 9\n",
            "KNeighborsClassifier(algorithm='auto', leaf_size=30, metric='euclidean',\n",
            "                     metric_params=None, n_jobs=None, n_neighbors=9, p=2,\n",
            "                     weights='uniform')\n",
            "[[6555  372]\n",
            " [1794  279]]\n",
            "\n",
            "k = 10\n",
            "KNeighborsClassifier(algorithm='auto', leaf_size=30, metric='euclidean',\n",
            "                     metric_params=None, n_jobs=None, n_neighbors=10, p=2,\n",
            "                     weights='uniform')\n",
            "[[6709  218]\n",
            " [1895  178]]\n",
            "\n"
          ],
          "name": "stdout"
        }
      ]
    },
    {
      "cell_type": "code",
      "metadata": {
        "colab": {
          "base_uri": "https://localhost:8080/",
          "height": 295
        },
        "id": "61o5hh7JHzML",
        "outputId": "c37bf36a-bb6b-4ac4-d447-dafecd99bd6b"
      },
      "source": [
        "fig = plt.figure()\r\n",
        "ax = plt.axes()\r\n",
        "plt.plot([1,2,3,4,5,6,7,8,9,10], accuracyKNN, label = 'Accuracy')\r\n",
        "plt.xlabel('K (number of neighbours)')\r\n",
        "plt.ylabel('Mean accuracy for test set')\r\n",
        "plt.title('Accuracy vs K')\r\n",
        "plt.legend()\r\n",
        "plt.savefig('181CO109 KNN accuracy graph.pdf')\r\n",
        "plt.show()"
      ],
      "execution_count": 10,
      "outputs": [
        {
          "output_type": "display_data",
          "data": {
            "image/png": "[encoded data removed]",
            "text/plain": [
              "<Figure size 432x288 with 1 Axes>"
            ]
          },
          "metadata": {
            "tags": [],
            "needs_background": "light"
          }
        }
      ]
    }
  ]
}