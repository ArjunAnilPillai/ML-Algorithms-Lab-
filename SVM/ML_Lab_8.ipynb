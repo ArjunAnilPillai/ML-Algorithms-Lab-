{
  "nbformat": 4,
  "nbformat_minor": 0,
  "metadata": {
    "colab": {
      "name": "ML Lab 8",
      "provenance": [],
      "collapsed_sections": [],
      "toc_visible": true
    },
    "kernelspec": {
      "name": "python3",
      "display_name": "Python 3"
    }
  },
  "cells": [
    {
      "cell_type": "markdown",
      "metadata": {
        "id": "zfD7rQbEaDbu"
      },
      "source": [
        "#Name - Arjun A.\r\n",
        "#Roll number - 181CO109\r\n",
        "#Date of submission - 12-3-2021\r\n",
        "This notebook was written in google colab. <br>Link to view notebook<br>\r\n",
        "https://colab.research.google.com/drive/11ePFuMW86B5pJxCEZmLyByCox4RZC2xg?usp=sharing"
      ]
    },
    {
      "cell_type": "markdown",
      "metadata": {
        "id": "LpZRvlqrLM1g"
      },
      "source": [
        "#ML Lab 8 - SVM algorithms\r\n",
        "This notebook is used to implement the SVM or Support Vector Machine Algorithms to classify a handwritten digits dataset. "
      ]
    },
    {
      "cell_type": "markdown",
      "metadata": {
        "id": "hfmdtJRBik33"
      },
      "source": [
        "##Importing necessary packages\r\n"
      ]
    },
    {
      "cell_type": "code",
      "metadata": {
        "id": "3B4W9XOzgc1V"
      },
      "source": [
        "from sklearn.svm import SVC\n",
        "from sklearn.model_selection import train_test_split \n",
        "from sklearn.datasets import load_digits \n",
        "from sklearn.metrics import confusion_matrix, classification_report\n",
        "import numpy as np \n",
        "import matplotlib.pyplot as plt\n",
        "import pandas as pd"
      ],
      "execution_count": 1,
      "outputs": []
    },
    {
      "cell_type": "markdown",
      "metadata": {
        "id": "bZCqu97Ro59b"
      },
      "source": [
        "## Importing the images dataset and splitting the dataset\r\n",
        "It is taken from the test set of https://archive.ics.uci.edu/ml/datasets/Optical+Recognition+of+Handwritten+Digits<br>\r\n",
        "Size of the image - 8 x 8 <br>\r\n",
        "The dataset has been split 70:30 into train and test datasets. "
      ]
    },
    {
      "cell_type": "code",
      "metadata": {
        "id": "bcAY8M19o_RW"
      },
      "source": [
        "def loadDataset():\r\n",
        "  digits = load_digits()\r\n",
        "    \r\n",
        "  #Flattening image\r\n",
        "  print('Shape of np array before flattening -', np.shape(digits.images))\r\n",
        "  n_samples = len(digits.images)\r\n",
        "  data = digits.images.reshape((n_samples, -1))\r\n",
        "  print('Shape of np array after flattening -', np.shape(data))\r\n",
        "  print()\r\n",
        "\r\n",
        "  #Printing a few examples\r\n",
        "  _, axes = plt.subplots(nrows=1, ncols=4, figsize=(10, 3))\r\n",
        "  for ax, image, label in zip(axes, digits.images, digits.target):\r\n",
        "    ax.set_axis_off()\r\n",
        "    ax.imshow(image, cmap=plt.cm.gray_r, interpolation='nearest')\r\n",
        "    ax.set_title('Training: %i' % label)\r\n",
        "\r\n",
        "  #Splitting the dataset\r\n",
        "  X_train, X_test, y_train, y_test = train_test_split(data, digits.target, test_size = 0.7, random_state = 100, shuffle = False) #Specifying random_state to get the same dataset split everytime \r\n",
        "\r\n",
        "  #Returning \r\n",
        "  return data, digits.target, X_train, X_test, y_train, y_test\r\n",
        "\r\n"
      ],
      "execution_count": 2,
      "outputs": []
    },
    {
      "cell_type": "code",
      "metadata": {
        "colab": {
          "base_uri": "https://localhost:8080/",
          "height": 403
        },
        "id": "yeuBqf4IsboV",
        "outputId": "f1ad2896-8188-4e5c-9735-164c612300b9"
      },
      "source": [
        "X, Y, X_train, X_test, y_train, y_test = loadDataset()\r\n",
        "\r\n",
        "#Original flattened dataset shape\r\n",
        "print('X shape -', np.shape(X))\r\n",
        "print('Y shape -', np.shape(Y))\r\n",
        "print()\r\n",
        "\r\n",
        "#Printing size of the split\r\n",
        "print('Test dataset size\\nX_test -', len(X_test), '\\ny_test -', len(y_test), '\\n')\r\n",
        "print('Train dataset size\\nX_train -', len(X_train), '\\ny_train -', len(y_train))\r\n",
        "print()"
      ],
      "execution_count": 3,
      "outputs": [
        {
          "output_type": "stream",
          "text": [
            "Shape of np array before flattening - (1797, 8, 8)\n",
            "Shape of np array after flattening - (1797, 64)\n",
            "\n",
            "X shape - (1797, 64)\n",
            "Y shape - (1797,)\n",
            "\n",
            "Test dataset size\n",
            "X_test - 1258 \n",
            "y_test - 1258 \n",
            "\n",
            "Train dataset size\n",
            "X_train - 539 \n",
            "y_train - 539\n",
            "\n"
          ],
          "name": "stdout"
        },
        {
          "output_type": "display_data",
          "data": {
            "image/png": "[encoded data removed]",
            "text/plain": [
              "<Figure size 720x216 with 4 Axes>"
            ]
          },
          "metadata": {
            "tags": [],
            "needs_background": "light"
          }
        }
      ]
    },
    {
      "cell_type": "markdown",
      "metadata": {
        "id": "_5u0J-8TuKP9"
      },
      "source": [
        "## Defining model(s)"
      ]
    },
    {
      "cell_type": "code",
      "metadata": {
        "id": "6SzaujyvuN4W"
      },
      "source": [
        "linearSVM = SVC(kernel = 'linear')\r\n",
        "polySVM = SVC(kernel = 'poly')\r\n",
        "rbfSVM = SVC(kernel = 'rbf')\r\n",
        "sigSVM = SVC(kernel = 'sigmoid')"
      ],
      "execution_count": 4,
      "outputs": []
    },
    {
      "cell_type": "markdown",
      "metadata": {
        "id": "kYNwLaAGsRyG"
      },
      "source": [
        "##Training all models on the train dataset"
      ]
    },
    {
      "cell_type": "code",
      "metadata": {
        "id": "fTfeGLjLgm8f",
        "colab": {
          "base_uri": "https://localhost:8080/",
          "height": 0
        },
        "outputId": "19d1295b-9413-43d2-8cbf-350eb219ee7a"
      },
      "source": [
        "linearSVM.fit(X_train, y_train)\n",
        "polySVM.fit(X_train, y_train)\n",
        "rbfSVM.fit(X_train, y_train)\n",
        "sigSVM.fit(X_train, y_train)"
      ],
      "execution_count": 5,
      "outputs": [
        {
          "output_type": "execute_result",
          "data": {
            "text/plain": [
              "SVC(C=1.0, break_ties=False, cache_size=200, class_weight=None, coef0=0.0,\n",
              "    decision_function_shape='ovr', degree=3, gamma='scale', kernel='sigmoid',\n",
              "    max_iter=-1, probability=False, random_state=None, shrinking=True,\n",
              "    tol=0.001, verbose=False)"
            ]
          },
          "metadata": {
            "tags": []
          },
          "execution_count": 5
        }
      ]
    },
    {
      "cell_type": "markdown",
      "metadata": {
        "id": "3pYQE8dyzIYU"
      },
      "source": [
        "## Using the model to classify images in the test dataset"
      ]
    },
    {
      "cell_type": "code",
      "metadata": {
        "id": "QaFsfzgivmlB"
      },
      "source": [
        "linearPred = linearSVM.predict(X_test)\r\n",
        "polyPred = polySVM.predict(X_test)\r\n",
        "rbfPred = rbfSVM.predict(X_test)\r\n",
        "sigPred = sigSVM.predict(X_test)"
      ],
      "execution_count": 6,
      "outputs": []
    },
    {
      "cell_type": "markdown",
      "metadata": {
        "id": "x4_L1yY-zn2F"
      },
      "source": [
        "## Function for class-wise accuracy to compare between different SVMs"
      ]
    },
    {
      "cell_type": "code",
      "metadata": {
        "id": "cII2w30gzxKw"
      },
      "source": [
        "def accuracyClassWise(cm):\r\n",
        "  #Now the normalize the diagonal entries\r\n",
        "  cm = cm.astype('float') / cm.sum(axis=1)[:, np.newaxis]\r\n",
        "\r\n",
        "  #The diagonal entries are the accuracies of each class\r\n",
        "  return list(cm.diagonal())"
      ],
      "execution_count": 7,
      "outputs": []
    },
    {
      "cell_type": "markdown",
      "metadata": {
        "id": "JXFKQnNquSgN"
      },
      "source": [
        "##Finding accuracy for all models using the test dataset"
      ]
    },
    {
      "cell_type": "markdown",
      "metadata": {
        "id": "HOtxfbvgwe1C"
      },
      "source": [
        "### Linear SVM"
      ]
    },
    {
      "cell_type": "code",
      "metadata": {
        "colab": {
          "base_uri": "https://localhost:8080/",
          "height": 0
        },
        "id": "viJ1j4K8wgZw",
        "outputId": "08d78e0c-c1eb-4fbd-c714-527e51f173b2"
      },
      "source": [
        "print('Report for Linear SVM\\n')\r\n",
        "print(classification_report(y_test, linearPred))\r\n",
        "print('\\n Confusion matrix')\r\n",
        "print(confusion_matrix(y_test, linearPred))\r\n",
        "linearCA = accuracyClassWise(confusion_matrix(y_test, linearPred))"
      ],
      "execution_count": 8,
      "outputs": [
        {
          "output_type": "stream",
          "text": [
            "Report for Linear SVM\n",
            "\n",
            "              precision    recall  f1-score   support\n",
            "\n",
            "           0       0.97      0.99      0.98       123\n",
            "           1       0.90      0.92      0.91       127\n",
            "           2       0.99      0.98      0.99       122\n",
            "           3       0.95      0.92      0.94       128\n",
            "           4       0.97      0.96      0.96       128\n",
            "           5       0.93      0.96      0.95       128\n",
            "           6       0.98      0.98      0.98       128\n",
            "           7       0.95      0.97      0.96       126\n",
            "           8       0.90      0.88      0.89       121\n",
            "           9       0.90      0.88      0.89       127\n",
            "\n",
            "    accuracy                           0.95      1258\n",
            "   macro avg       0.95      0.95      0.95      1258\n",
            "weighted avg       0.95      0.95      0.95      1258\n",
            "\n",
            "\n",
            " Confusion matrix\n",
            "[[122   0   0   0   1   0   0   0   0   0]\n",
            " [  0 117   1   0   0   0   1   0   3   5]\n",
            " [  1   0 120   1   0   0   0   0   0   0]\n",
            " [  0   0   0 118   0   4   0   1   5   0]\n",
            " [  0   0   0   0 123   0   0   1   0   4]\n",
            " [  0   0   0   1   1 123   1   0   0   2]\n",
            " [  2   1   0   0   0   0 125   0   0   0]\n",
            " [  0   0   0   0   1   0   0 122   2   1]\n",
            " [  0   8   0   1   0   3   0   2 107   0]\n",
            " [  1   4   0   3   1   2   0   2   2 112]]\n"
          ],
          "name": "stdout"
        }
      ]
    },
    {
      "cell_type": "markdown",
      "metadata": {
        "id": "wJCbKgDmxswp"
      },
      "source": [
        "### Polynomial SVM"
      ]
    },
    {
      "cell_type": "code",
      "metadata": {
        "colab": {
          "base_uri": "https://localhost:8080/",
          "height": 0
        },
        "id": "Qoeeod_uxswz",
        "outputId": "d7c6a04c-1915-4c7f-bc3a-78325965c45b"
      },
      "source": [
        "print('Report for Polynomial SVM\\n')\r\n",
        "print(classification_report(y_test, polyPred))\r\n",
        "print('\\n Confusion matrix')\r\n",
        "print(confusion_matrix(y_test, polyPred))\r\n",
        "\r\n",
        "polyCA = accuracyClassWise(confusion_matrix(y_test, polyPred))"
      ],
      "execution_count": 9,
      "outputs": [
        {
          "output_type": "stream",
          "text": [
            "Report for Polynomial SVM\n",
            "\n",
            "              precision    recall  f1-score   support\n",
            "\n",
            "           0       0.98      0.99      0.98       123\n",
            "           1       0.94      0.96      0.95       127\n",
            "           2       0.99      0.97      0.98       122\n",
            "           3       0.95      0.93      0.94       128\n",
            "           4       0.98      0.96      0.97       128\n",
            "           5       0.92      0.95      0.93       128\n",
            "           6       0.98      0.98      0.98       128\n",
            "           7       0.98      0.98      0.98       126\n",
            "           8       0.94      0.91      0.92       121\n",
            "           9       0.91      0.94      0.92       127\n",
            "\n",
            "    accuracy                           0.96      1258\n",
            "   macro avg       0.96      0.96      0.96      1258\n",
            "weighted avg       0.96      0.96      0.96      1258\n",
            "\n",
            "\n",
            " Confusion matrix\n",
            "[[122   0   0   0   1   0   0   0   0   0]\n",
            " [  0 122   0   0   0   1   1   0   2   1]\n",
            " [  1   0 118   3   0   0   0   0   0   0]\n",
            " [  0   0   1 119   0   4   0   1   3   0]\n",
            " [  0   0   0   0 123   0   0   1   0   4]\n",
            " [  0   0   0   0   1 121   1   0   0   5]\n",
            " [  2   1   0   0   0   0 125   0   0   0]\n",
            " [  0   0   0   0   0   0   0 124   2   0]\n",
            " [  0   4   0   1   0   4   0   0 110   2]\n",
            " [  0   3   0   2   0   2   0   1   0 119]]\n"
          ],
          "name": "stdout"
        }
      ]
    },
    {
      "cell_type": "markdown",
      "metadata": {
        "id": "GC8Ff3vAxtXh"
      },
      "source": [
        "### RBF(Radial Basis Function) SVM"
      ]
    },
    {
      "cell_type": "code",
      "metadata": {
        "colab": {
          "base_uri": "https://localhost:8080/",
          "height": 0
        },
        "id": "hXmyCyHKxtXh",
        "outputId": "c801e81f-bb4d-4440-beb8-c43a4daea359"
      },
      "source": [
        "print('Report for RBF SVM\\n')\r\n",
        "print(classification_report(y_test, rbfPred))\r\n",
        "print('\\n Confusion matrix')\r\n",
        "print(confusion_matrix(y_test, rbfPred))\r\n",
        "\r\n",
        "rbfCA = accuracyClassWise(confusion_matrix(y_test, rbfPred))"
      ],
      "execution_count": 10,
      "outputs": [
        {
          "output_type": "stream",
          "text": [
            "Report for RBF SVM\n",
            "\n",
            "              precision    recall  f1-score   support\n",
            "\n",
            "           0       0.99      0.99      0.99       123\n",
            "           1       0.91      0.89      0.90       127\n",
            "           2       0.98      0.98      0.98       122\n",
            "           3       0.99      0.90      0.94       128\n",
            "           4       0.98      0.96      0.97       128\n",
            "           5       0.93      0.96      0.95       128\n",
            "           6       0.98      0.98      0.98       128\n",
            "           7       0.95      0.98      0.97       126\n",
            "           8       0.85      0.88      0.87       121\n",
            "           9       0.88      0.92      0.90       127\n",
            "\n",
            "    accuracy                           0.95      1258\n",
            "   macro avg       0.95      0.95      0.95      1258\n",
            "weighted avg       0.95      0.95      0.95      1258\n",
            "\n",
            "\n",
            " Confusion matrix\n",
            "[[122   0   0   0   1   0   0   0   0   0]\n",
            " [  0 113   2   0   0   1   0   0  11   0]\n",
            " [  0   0 120   0   0   0   0   0   0   2]\n",
            " [  0   0   0 115   0   3   0   4   5   1]\n",
            " [  0   0   0   0 123   0   0   1   1   3]\n",
            " [  0   0   0   0   1 123   1   0   0   3]\n",
            " [  1   1   0   0   0   1 125   0   0   0]\n",
            " [  0   0   0   0   0   1   0 124   1   0]\n",
            " [  0   5   0   0   0   1   1   0 107   7]\n",
            " [  0   5   0   1   0   2   0   1   1 117]]\n"
          ],
          "name": "stdout"
        }
      ]
    },
    {
      "cell_type": "markdown",
      "metadata": {
        "id": "SPjO6eGzxt7A"
      },
      "source": [
        "### Sigmoid SVM"
      ]
    },
    {
      "cell_type": "code",
      "metadata": {
        "colab": {
          "base_uri": "https://localhost:8080/",
          "height": 0
        },
        "id": "FspTu0Ogxt7B",
        "outputId": "cdb572d0-8365-41ff-d224-08bf80ff945b"
      },
      "source": [
        "print('Report for Sigmoid SVM\\n')\r\n",
        "print(classification_report(y_test, sigPred))\r\n",
        "print('\\n Confusion matrix')\r\n",
        "print(confusion_matrix(y_test, sigPred))\r\n",
        "\r\n",
        "sigCA = accuracyClassWise(confusion_matrix(y_test, sigPred))"
      ],
      "execution_count": 11,
      "outputs": [
        {
          "output_type": "stream",
          "text": [
            "Report for Sigmoid SVM\n",
            "\n",
            "              precision    recall  f1-score   support\n",
            "\n",
            "           0       0.95      0.98      0.96       123\n",
            "           1       0.77      0.55      0.64       127\n",
            "           2       0.90      0.91      0.90       122\n",
            "           3       0.96      0.84      0.90       128\n",
            "           4       0.94      0.89      0.92       128\n",
            "           5       0.93      0.86      0.89       128\n",
            "           6       0.92      0.98      0.95       128\n",
            "           7       0.86      0.91      0.89       126\n",
            "           8       0.66      0.80      0.73       121\n",
            "           9       0.73      0.85      0.79       127\n",
            "\n",
            "    accuracy                           0.86      1258\n",
            "   macro avg       0.86      0.86      0.86      1258\n",
            "weighted avg       0.86      0.86      0.86      1258\n",
            "\n",
            "\n",
            " Confusion matrix\n",
            "[[121   0   0   0   2   0   0   0   0   0]\n",
            " [  1  70  13   0   2   0   5   4  28   4]\n",
            " [  1   1 111   3   0   0   0   1   1   4]\n",
            " [  0   2   0 108   0   3   0   4   6   5]\n",
            " [  3   0   0   0 114   0   3   5   3   0]\n",
            " [  1   0   0   0   2 110   2   0   0  13]\n",
            " [  1   1   0   0   0   0 126   0   0   0]\n",
            " [  0   0   0   0   1   1   0 115   9   0]\n",
            " [  0   7   0   1   0   1   1   1  97  13]\n",
            " [  0  10   0   1   0   3   0   3   2 108]]\n"
          ],
          "name": "stdout"
        }
      ]
    },
    {
      "cell_type": "markdown",
      "metadata": {
        "id": "IBE6YrRS0lZM"
      },
      "source": [
        "### Comparing class-wise accuracies of the different SVMs\r\n"
      ]
    },
    {
      "cell_type": "code",
      "metadata": {
        "colab": {
          "base_uri": "https://localhost:8080/",
          "height": 295
        },
        "id": "qU1R1EfQ0ppl",
        "outputId": "7e4a5007-5a59-416b-b4a5-a496830bc059"
      },
      "source": [
        "fig = plt.figure()\r\n",
        "ax = plt.axes()\r\n",
        "plt.plot([0,1,2,3,4,5,6,7,8,9], linearCA, label = 'Linear')\r\n",
        "plt.plot([0,1,2,3,4,5,6,7,8,9], polyCA, label = 'Polynomial')\r\n",
        "plt.plot([0,1,2,3,4,5,6,7,8,9], rbfCA, label = 'RBF')\r\n",
        "plt.plot([0,1,2,3,4,5,6,7,8,9], sigCA, label = 'Sigmoid')\r\n",
        "plt.xlabel('Number(0-9)')\r\n",
        "plt.ylabel('Accuracy(digit-wise)')\r\n",
        "plt.title('Accuracy vs Number')\r\n",
        "plt.legend()\r\n",
        "plt.savefig('181CO109 SVM accuracy graph.pdf')\r\n",
        "plt.show()"
      ],
      "execution_count": 12,
      "outputs": [
        {
          "output_type": "display_data",
          "data": {
            "image/png": "[encoded data removed]",
            "text/plain": [
              "<Figure size 432x288 with 1 Axes>"
            ]
          },
          "metadata": {
            "tags": [],
            "needs_background": "light"
          }
        }
      ]
    }
  ]
}