{
  "nbformat": 4,
  "nbformat_minor": 0,
  "metadata": {
    "colab": {
      "name": "ML_Lab_2",
      "provenance": [],
      "toc_visible": true
    },
    "kernelspec": {
      "name": "python3",
      "display_name": "Python 3"
    }
  },
  "cells": [
    {
      "cell_type": "markdown",
      "metadata": {
        "id": "NG1MhNuq4Mmx"
      },
      "source": [
        "#Name - Arjun A.\r\n",
        "#Roll number - 181CO109\r\n",
        "#Date of submission - 22-01-2021\r\n",
        "This notebook was written in google colab. <br>Link to view notebook<br>\r\n",
        "https://colab.research.google.com/drive/1ZkSxH5G43ppX86sYiAknBHwRI49YODQ3?usp=sharing\r\n"
      ]
    },
    {
      "cell_type": "markdown",
      "metadata": {
        "id": "nbk4mUEeTJlf"
      },
      "source": [
        "#Machine Learning Lab 2\r\n",
        "  Demonstrate working of decision tree based ID3 algorithm, C4.5 algorithm, CART algorithm. Find and compare accuracy of each algorithm. Do tree pruning to prevent over-fitting. Use any dataset as seen fit. "
      ]
    },
    {
      "cell_type": "markdown",
      "metadata": {
        "id": "vwb5XIgFT0rq"
      },
      "source": [
        "##Importing required packages"
      ]
    },
    {
      "cell_type": "code",
      "metadata": {
        "colab": {
          "base_uri": "https://localhost:8080/"
        },
        "id": "4o7I9Jo5OBv4",
        "outputId": "81f6a331-fa3e-4808-ac9d-0bc58e09cb02"
      },
      "source": [
        "!pip install numpy\r\n",
        "!pip install scipy\r\n",
        "!pip install -U scikit-learn\r\n",
        "!pip install pandas\r\n",
        "!pip install graphviz"
      ],
      "execution_count": 1,
      "outputs": [
        {
          "output_type": "stream",
          "text": [
            "Requirement already satisfied: numpy in /usr/local/lib/python3.6/dist-packages (1.19.5)\n",
            "Requirement already satisfied: scipy in /usr/local/lib/python3.6/dist-packages (1.4.1)\n",
            "Requirement already satisfied: numpy>=1.13.3 in /usr/local/lib/python3.6/dist-packages (from scipy) (1.19.5)\n",
            "Collecting scikit-learn\n",
            "\u001b[?25l  Downloading https://files.pythonhosted.org/packages/e2/4c/6111b9a325f29527d7f262e2ee8c730d354b47a728d955e186dacad57a0d/scikit_learn-0.24.1-cp36-cp36m-manylinux2010_x86_64.whl (22.2MB)\n",
            "\u001b[K     |████████████████████████████████| 22.2MB 7.4MB/s \n",
            "\u001b[?25hRequirement already satisfied, skipping upgrade: numpy>=1.13.3 in /usr/local/lib/python3.6/dist-packages (from scikit-learn) (1.19.5)\n",
            "Collecting threadpoolctl>=2.0.0\n",
            "  Downloading https://files.pythonhosted.org/packages/f7/12/ec3f2e203afa394a149911729357aa48affc59c20e2c1c8297a60f33f133/threadpoolctl-2.1.0-py3-none-any.whl\n",
            "Requirement already satisfied, skipping upgrade: scipy>=0.19.1 in /usr/local/lib/python3.6/dist-packages (from scikit-learn) (1.4.1)\n",
            "Requirement already satisfied, skipping upgrade: joblib>=0.11 in /usr/local/lib/python3.6/dist-packages (from scikit-learn) (1.0.0)\n",
            "Installing collected packages: threadpoolctl, scikit-learn\n",
            "  Found existing installation: scikit-learn 0.22.2.post1\n",
            "    Uninstalling scikit-learn-0.22.2.post1:\n",
            "      Successfully uninstalled scikit-learn-0.22.2.post1\n",
            "Successfully installed scikit-learn-0.24.1 threadpoolctl-2.1.0\n",
            "Requirement already satisfied: pandas in /usr/local/lib/python3.6/dist-packages (1.1.5)\n",
            "Requirement already satisfied: python-dateutil>=2.7.3 in /usr/local/lib/python3.6/dist-packages (from pandas) (2.8.1)\n",
            "Requirement already satisfied: pytz>=2017.2 in /usr/local/lib/python3.6/dist-packages (from pandas) (2018.9)\n",
            "Requirement already satisfied: numpy>=1.15.4 in /usr/local/lib/python3.6/dist-packages (from pandas) (1.19.5)\n",
            "Requirement already satisfied: six>=1.5 in /usr/local/lib/python3.6/dist-packages (from python-dateutil>=2.7.3->pandas) (1.15.0)\n",
            "Requirement already satisfied: graphviz in /usr/local/lib/python3.6/dist-packages (0.10.1)\n"
          ],
          "name": "stdout"
        }
      ]
    },
    {
      "cell_type": "code",
      "metadata": {
        "id": "gohtii8yPI-M"
      },
      "source": [
        "import numpy as np \r\n",
        "import pandas as pd \r\n",
        "import graphviz\r\n",
        "import matplotlib.pyplot as plt\r\n",
        "from sklearn.model_selection import train_test_split \r\n",
        "from sklearn.tree import DecisionTreeClassifier, plot_tree, export_graphviz\r\n",
        "from sklearn.metrics import accuracy_score \r\n",
        "from sklearn.metrics import classification_report \r\n",
        "from sklearn.datasets import load_breast_cancer"
      ],
      "execution_count": 2,
      "outputs": []
    },
    {
      "cell_type": "markdown",
      "metadata": {
        "id": "mSNguicKSUhY"
      },
      "source": [
        "##Importing data from the breast cancer dataset\r\n",
        "Using the load_breast_cancer function from sklearn, importing the breast cancer dataset\r\n"
      ]
    },
    {
      "cell_type": "code",
      "metadata": {
        "id": "UoAjKGwRPLYH"
      },
      "source": [
        "# Function to import data\r\n",
        "def importdata(): \r\n",
        "\r\n",
        "  breastcancerData = load_breast_cancer()\r\n",
        "  X = breastcancerData.data\r\n",
        "  Y = breastcancerData.target\r\n",
        "  names = breastcancerData.target_names\r\n",
        "  featureName = breastcancerData.feature_names\r\n",
        "  print(type(X))\r\n",
        "  print(type(Y))\r\n",
        "  print(names)\r\n",
        "  \r\n",
        "  return X, Y, names, featureName"
      ],
      "execution_count": 3,
      "outputs": []
    },
    {
      "cell_type": "code",
      "metadata": {
        "colab": {
          "base_uri": "https://localhost:8080/"
        },
        "id": "GtJPFJ3wSwUf",
        "outputId": "26c9abc3-bc0c-4927-df46-de3f16209a99"
      },
      "source": [
        "X, Y, bcClassNames, bcFeatureNames = importdata()"
      ],
      "execution_count": 4,
      "outputs": [
        {
          "output_type": "stream",
          "text": [
            "<class 'numpy.ndarray'>\n",
            "<class 'numpy.ndarray'>\n",
            "['malignant' 'benign']\n"
          ],
          "name": "stdout"
        }
      ]
    },
    {
      "cell_type": "markdown",
      "metadata": {
        "id": "CO4D9ViCWO9h"
      },
      "source": [
        "##Splitting the data into train and test sets\r\n",
        " Splitting the data in the ratio of 7:3. (70% training and 30% testing)"
      ]
    },
    {
      "cell_type": "code",
      "metadata": {
        "id": "gBOcVcrbXZoa"
      },
      "source": [
        "def splitdataset(X, Y): \r\n",
        "\r\n",
        "  X_train, X_test, y_train, y_test = train_test_split(X, Y, test_size = 0.3, random_state = 100) #Specifying random_state to get the same dataset split everytime \r\n",
        "\t\r\n",
        "  return X, Y, X_train, X_test, y_train, y_test "
      ],
      "execution_count": 5,
      "outputs": []
    },
    {
      "cell_type": "code",
      "metadata": {
        "colab": {
          "base_uri": "https://localhost:8080/"
        },
        "id": "Xq7whDXkZyyv",
        "outputId": "360e249d-aaeb-423d-a5d1-9548d606c0bc"
      },
      "source": [
        "X, Y, X_train, X_test, y_train, y_test = splitdataset(X, Y)\r\n",
        "\r\n",
        "#Use to print the entire dataset\r\n",
        "#print(X, Y, X_train, X_test, y_train, y_test, sep = '\\n\\n')\r\n",
        "\r\n",
        "#Printing size of the split\r\n",
        "print('Test dataset size\\nX_test -', len(X_test), '\\ny_test -', len(y_test), '\\n')\r\n",
        "print('Train dataset size\\nX_train -', len(X_train), '\\ny_train -', len(y_train))"
      ],
      "execution_count": 6,
      "outputs": [
        {
          "output_type": "stream",
          "text": [
            "Test dataset size\n",
            "X_test - 171 \n",
            "y_test - 171 \n",
            "\n",
            "Train dataset size\n",
            "X_train - 398 \n",
            "y_train - 398\n"
          ],
          "name": "stdout"
        }
      ]
    },
    {
      "cell_type": "markdown",
      "metadata": {
        "id": "1sGdHb8RjRcA"
      },
      "source": [
        "##Decision tree - ID3 algorithm\r\n",
        "Using sklearn's DecisionTreeClassifier to implement ID3 decision tree algorithm.  <br>\r\n",
        "The 'max_depth' parameter is set to 10 i.e maximum depth of the tree is set to 10. <br>\r\n",
        "The 'splitter' is set to 'best' to ensure that the attribute with the highest information gain is selected everytime.<br>\r\n",
        "The 'random_state' attribute is set to 100 to ensure that the same decision tree is obtained each time.  \r\n"
      ]
    },
    {
      "cell_type": "code",
      "metadata": {
        "colab": {
          "base_uri": "https://localhost:8080/"
        },
        "id": "HtQKjyA2lRLG",
        "outputId": "58d6192e-07d0-4999-8d4a-810e76227acf"
      },
      "source": [
        "modelID3 = DecisionTreeClassifier(criterion = 'entropy', splitter = 'best', random_state = 100)\r\n",
        "modelID3.fit(X_train, y_train)"
      ],
      "execution_count": 7,
      "outputs": [
        {
          "output_type": "execute_result",
          "data": {
            "text/plain": [
              "DecisionTreeClassifier(criterion='entropy', random_state=100)"
            ]
          },
          "metadata": {
            "tags": []
          },
          "execution_count": 7
        }
      ]
    },
    {
      "cell_type": "markdown",
      "metadata": {
        "id": "HawRcdQ2M58-"
      },
      "source": [
        "##Decision tree - C4.5 algorithm\r\n",
        "Refer this for program <br>https://github.com/ArjunAnilPillai/scikit-learn-C4.5-tree-classifier.git"
      ]
    },
    {
      "cell_type": "code",
      "metadata": {
        "colab": {
          "base_uri": "https://localhost:8080/"
        },
        "id": "UpDCdk8eNAdx",
        "outputId": "bdb8d7d6-4fb2-4c70-91f3-73dc1b761f8e"
      },
      "source": [
        "#Code to clone package for C4.5 decision tree\r\n",
        "!git clone https://github.com/ArjunAnilPillai/scikit-learn-C4.5-tree-classifier.git"
      ],
      "execution_count": 8,
      "outputs": [
        {
          "output_type": "stream",
          "text": [
            "Cloning into 'scikit-learn-C4.5-tree-classifier'...\n",
            "remote: Enumerating objects: 13, done.\u001b[K\n",
            "remote: Counting objects: 100% (13/13), done.\u001b[K\n",
            "remote: Compressing objects: 100% (8/8), done.\u001b[K\n",
            "remote: Total 30 (delta 5), reused 11 (delta 5), pack-reused 17\u001b[K\n",
            "Unpacking objects: 100% (30/30), done.\n"
          ],
          "name": "stdout"
        }
      ]
    },
    {
      "cell_type": "code",
      "metadata": {
        "colab": {
          "base_uri": "https://localhost:8080/",
          "height": 35
        },
        "id": "1gO9s3LvyIlv",
        "outputId": "b52e54a6-177b-4fd2-afad-acddcbd7198a"
      },
      "source": [
        "'''#Code to pull some code from my github\r\n",
        "%cd scikit-learn-C4.5-tree-classifier/ \r\n",
        "!ls\r\n",
        "!git pull\r\n",
        "%cd ..\r\n",
        "!ls'''"
      ],
      "execution_count": 9,
      "outputs": [
        {
          "output_type": "execute_result",
          "data": {
            "application/vnd.google.colaboratory.intrinsic+json": {
              "type": "string"
            },
            "text/plain": [
              "'#Code to pull some code from my github\\n%cd scikit-learn-C4.5-tree-classifier/ \\n!ls\\n!git pull\\n%cd ..\\n!ls'"
            ]
          },
          "metadata": {
            "tags": []
          },
          "execution_count": 9
        }
      ]
    },
    {
      "cell_type": "code",
      "metadata": {
        "id": "Ppf0DuncNP0Z"
      },
      "source": [
        "import sys\r\n",
        "sys.path.append('/content/scikit-learn-C4.5-tree-classifier')"
      ],
      "execution_count": 10,
      "outputs": []
    },
    {
      "cell_type": "code",
      "metadata": {
        "colab": {
          "base_uri": "https://localhost:8080/"
        },
        "id": "_WYKwjLJNbcF",
        "outputId": "8efeab82-21e2-43c3-af79-2db531b8271a"
      },
      "source": [
        "from c45 import C45\r\n",
        "modelC45 = C45(bcFeatureNames)\r\n",
        "modelC45.fit(X_train, y_train)"
      ],
      "execution_count": 11,
      "outputs": [
        {
          "output_type": "execute_result",
          "data": {
            "text/plain": [
              "C45(attrNames=['meanradius', 'meantexture', 'meanperimeter', 'meanarea',\n",
              "               'meansmoothness', 'meancompactness', 'meanconcavity',\n",
              "               'meanconcavepoints', 'meansymmetry', 'meanfractaldimension',\n",
              "               'radiuserror', 'textureerror', 'perimetererror', 'areaerror',\n",
              "               'smoothnesserror', 'compactnesserror', 'concavityerror',\n",
              "               'concavepointserror', 'symmetryerror', 'fractaldimensionerror',\n",
              "               'worstradius', 'worsttexture', 'worstperimeter', 'worstarea',\n",
              "               'worstsmoothness', 'worstcompactness', 'worstconcavity',\n",
              "               'worstconcavepoints', 'worstsymmetry', 'worstfractaldimension'])"
            ]
          },
          "metadata": {
            "tags": []
          },
          "execution_count": 11
        }
      ]
    },
    {
      "cell_type": "markdown",
      "metadata": {
        "id": "FGBAHBv0s63t"
      },
      "source": [
        "##Decision tree - CART algorithm\r\n",
        "Using sklearn's DecisionTreeClassifier to implement CART decision tree algorithm.  <br>\r\n",
        "The 'maxdepth' parameter is set to 10 i.e maximum depth of the tree is set to 10. <br>\r\n",
        "The 'splitter' is set to 'best' to ensure that the attribute with the highest gini index is selected everytime.<br>\r\n",
        "The 'random_state' attribute is set to 100 to ensure that the same decision tree is obtained each time.  "
      ]
    },
    {
      "cell_type": "code",
      "metadata": {
        "colab": {
          "base_uri": "https://localhost:8080/"
        },
        "id": "EGi5Q3HdByZB",
        "outputId": "66c5cdf9-ac07-4581-b030-6066a79d86c4"
      },
      "source": [
        "modelCART = DecisionTreeClassifier(criterion = 'gini',splitter = 'best', random_state = 100)\r\n",
        "modelCART.fit(X_train, y_train)"
      ],
      "execution_count": 12,
      "outputs": [
        {
          "output_type": "execute_result",
          "data": {
            "text/plain": [
              "DecisionTreeClassifier(random_state=100)"
            ]
          },
          "metadata": {
            "tags": []
          },
          "execution_count": 12
        }
      ]
    },
    {
      "cell_type": "markdown",
      "metadata": {
        "id": "AIDjWafMpodX"
      },
      "source": [
        "##Function to print accuracy \r\n",
        "Using sklearn's classification_report and accuracy_score."
      ]
    },
    {
      "cell_type": "code",
      "metadata": {
        "id": "FmAxi_cZp8F2"
      },
      "source": [
        "def measuringAccuracy(Y_train, y_test, y_predict_train, y_predict_test):\r\n",
        "  print('Accuracy with train data -', (accuracy_score(y_train, y_predict_train) * 100))\r\n",
        "  print('Accuracy with test data -', (accuracy_score(y_test, y_predict_test) * 100))\r\n",
        "  print('\\nReport for test data\\n', classification_report(y_test, y_predict_test))"
      ],
      "execution_count": 13,
      "outputs": []
    },
    {
      "cell_type": "markdown",
      "metadata": {
        "id": "0k9eVjJ3qeq6"
      },
      "source": [
        "##Calculating accuracy and generating report for the different algorithms"
      ]
    },
    {
      "cell_type": "markdown",
      "metadata": {
        "id": "XAwGJJ79a8AO"
      },
      "source": [
        "###For ID3 decision tree"
      ]
    },
    {
      "cell_type": "code",
      "metadata": {
        "colab": {
          "base_uri": "https://localhost:8080/",
          "height": 502
        },
        "id": "BnbtxkX7qdtN",
        "outputId": "248e2573-fd97-4661-a4d1-f4956fce585f"
      },
      "source": [
        "#ID3 decision tree\r\n",
        "print(\"ID3 decision tree\")\r\n",
        "y_predID3 = modelID3.predict(X_test)\r\n",
        "y_predID3_train = modelID3.predict(X_train)\r\n",
        "measuringAccuracy(y_train, y_test, y_predID3_train, y_predID3)\r\n",
        "plot_tree(modelID3)\r\n",
        "\r\n",
        "#Graphviz for drawing tree\r\n",
        "dot_data = export_graphviz(modelID3, out_file=None) \r\n",
        "graph = graphviz.Source(dot_data) \r\n",
        "graph.render(\"ID3_Decision_tree_before_pruning\")"
      ],
      "execution_count": 14,
      "outputs": [
        {
          "output_type": "stream",
          "text": [
            "ID3 decision tree\n",
            "Accuracy with train data - 100.0\n",
            "Accuracy with test data - 91.81286549707602\n",
            "\n",
            "Report for test data\n",
            "               precision    recall  f1-score   support\n",
            "\n",
            "           0       0.91      0.88      0.90        69\n",
            "           1       0.92      0.94      0.93       102\n",
            "\n",
            "    accuracy                           0.92       171\n",
            "   macro avg       0.92      0.91      0.91       171\n",
            "weighted avg       0.92      0.92      0.92       171\n",
            "\n"
          ],
          "name": "stdout"
        },
        {
          "output_type": "execute_result",
          "data": {
            "application/vnd.google.colaboratory.intrinsic+json": {
              "type": "string"
            },
            "text/plain": [
              "'ID3_Decision_tree_before_pruning.pdf'"
            ]
          },
          "metadata": {
            "tags": []
          },
          "execution_count": 14
        },
        {
          "output_type": "display_data",
          "data": {
            "image/png": "[encoded data removed]",
            "text/plain": [
              "<Figure size 432x288 with 1 Axes>"
            ]
          },
          "metadata": {
            "tags": [],
            "needs_background": "light"
          }
        }
      ]
    },
    {
      "cell_type": "markdown",
      "metadata": {
        "id": "pUnFl_N8bJR_"
      },
      "source": [
        "###For C4.5 decision tree"
      ]
    },
    {
      "cell_type": "code",
      "metadata": {
        "colab": {
          "base_uri": "https://localhost:8080/"
        },
        "id": "GCyaaBwjbun_",
        "outputId": "f9b62f5a-551b-4b0a-e9bc-3c75f63af188"
      },
      "source": [
        "#C45 decision tree\r\n",
        "print(\"C45 decision tree\")\r\n",
        "y_predictC45 = modelC45.predict(X_test)\r\n",
        "y_predictC45_train = modelC45.predict(X_train)\r\n",
        "measuringAccuracy(y_train , y_test, y_predictC45_train, y_predictC45)\r\n",
        "\r\n",
        "#Printing XML for the decision tree and copying into .txt file\r\n",
        "xmlC45String, xmlC45 = modelC45.printTree()\r\n",
        "print(xmlC45String)\r\n",
        "\r\n",
        "# Write xml into file\r\n",
        "with open('/content/C45_Decision_tree_before_pruning.txt', 'w') as writefile:\r\n",
        "  writefile.write(xmlC45String)"
      ],
      "execution_count": 15,
      "outputs": [
        {
          "output_type": "stream",
          "text": [
            "C45 decision tree\n",
            "Accuracy with train data - 100.0\n",
            "Accuracy with test data - 90.05847953216374\n",
            "\n",
            "Report for test data\n",
            "               precision    recall  f1-score   support\n",
            "\n",
            "           0       0.93      0.81      0.87        69\n",
            "           1       0.88      0.96      0.92       102\n",
            "\n",
            "    accuracy                           0.90       171\n",
            "   macro avg       0.91      0.89      0.89       171\n",
            "weighted avg       0.90      0.90      0.90       171\n",
            "\n",
            "<?xml version=\"1.0\" ?>\r\n",
            "<DecisionTree>\r\n",
            "\t<worstperimeter flag=\"l\" p=\"0.709\" value=\"114.6\">\r\n",
            "\t\t<worstconcavepoints flag=\"l\" p=\"0.926\" value=\"0.1521\">\r\n",
            "\t\t\t<symmetryerror flag=\"l\" p=\"0.004\" value=\"0.009539\">0</symmetryerror>\r\n",
            "\t\t\t<symmetryerror flag=\"r\" p=\"0.996\" value=\"0.009539\">\r\n",
            "\t\t\t\t<meanarea flag=\"l\" p=\"0.973\" value=\"701.9\">\r\n",
            "\t\t\t\t\t<worstconcavepoints flag=\"l\" p=\"0.901\" value=\"0.1225\">\r\n",
            "\t\t\t\t\t\t<radiuserror flag=\"l\" p=\"0.982\" value=\"0.645\">\r\n",
            "\t\t\t\t\t\t\t<worsttexture flag=\"l\" p=\"0.933\" value=\"33.37\">1</worsttexture>\r\n",
            "\t\t\t\t\t\t\t<worsttexture flag=\"r\" p=\"0.067\" value=\"33.37\">\r\n",
            "\t\t\t\t\t\t\t\t<worsttexture flag=\"l\" p=\"0.067\" value=\"34.23\">0</worsttexture>\r\n",
            "\t\t\t\t\t\t\t\t<worsttexture flag=\"r\" p=\"0.933\" value=\"34.23\">1</worsttexture>\r\n",
            "\t\t\t\t\t\t\t</worsttexture>\r\n",
            "\t\t\t\t\t\t</radiuserror>\r\n",
            "\t\t\t\t\t\t<radiuserror flag=\"r\" p=\"0.018\" value=\"0.645\">\r\n",
            "\t\t\t\t\t\t\t<meantexture flag=\"l\" p=\"0.25\" value=\"19.12\">0</meantexture>\r\n",
            "\t\t\t\t\t\t\t<meantexture flag=\"r\" p=\"0.75\" value=\"19.12\">1</meantexture>\r\n",
            "\t\t\t\t\t\t</radiuserror>\r\n",
            "\t\t\t\t\t</worstconcavepoints>\r\n",
            "\t\t\t\t\t<worstconcavepoints flag=\"r\" p=\"0.099\" value=\"0.1225\">\r\n",
            "\t\t\t\t\t\t<meantexture flag=\"l\" p=\"0.88\" value=\"23.29\">\r\n",
            "\t\t\t\t\t\t\t<textureerror flag=\"l\" p=\"0.955\" value=\"2.22\">\r\n",
            "\t\t\t\t\t\t\t\t<symmetryerror flag=\"l\" p=\"0.048\" value=\"0.01315\">0</symmetryerror>\r\n",
            "\t\t\t\t\t\t\t\t<symmetryerror flag=\"r\" p=\"0.952\" value=\"0.01315\">\r\n",
            "\t\t\t\t\t\t\t\t\t<radiuserror flag=\"l\" p=\"0.85\" value=\"0.425\">1</radiuserror>\r\n",
            "\t\t\t\t\t\t\t\t\t<radiuserror flag=\"r\" p=\"0.15\" value=\"0.425\">\r\n",
            "\t\t\t\t\t\t\t\t\t\t<meanradius flag=\"l\" p=\"0.333\" value=\"14.64\">0</meanradius>\r\n",
            "\t\t\t\t\t\t\t\t\t\t<meanradius flag=\"r\" p=\"0.667\" value=\"14.64\">1</meanradius>\r\n",
            "\t\t\t\t\t\t\t\t\t</radiuserror>\r\n",
            "\t\t\t\t\t\t\t\t</symmetryerror>\r\n",
            "\t\t\t\t\t\t\t</textureerror>\r\n",
            "\t\t\t\t\t\t\t<textureerror flag=\"r\" p=\"0.045\" value=\"2.22\">0</textureerror>\r\n",
            "\t\t\t\t\t\t</meantexture>\r\n",
            "\t\t\t\t\t\t<meantexture flag=\"r\" p=\"0.12\" value=\"23.29\">0</meantexture>\r\n",
            "\t\t\t\t\t</worstconcavepoints>\r\n",
            "\t\t\t\t</meanarea>\r\n",
            "\t\t\t\t<meanarea flag=\"r\" p=\"0.027\" value=\"701.9\">\r\n",
            "\t\t\t\t\t<meantexture flag=\"l\" p=\"0.429\" value=\"19.07\">1</meantexture>\r\n",
            "\t\t\t\t\t<meantexture flag=\"r\" p=\"0.571\" value=\"19.07\">0</meantexture>\r\n",
            "\t\t\t\t</meanarea>\r\n",
            "\t\t\t</symmetryerror>\r\n",
            "\t\t</worstconcavepoints>\r\n",
            "\t\t<worstconcavepoints flag=\"r\" p=\"0.074\" value=\"0.1521\">\r\n",
            "\t\t\t<worsttexture flag=\"l\" p=\"0.19\" value=\"23.75\">1</worsttexture>\r\n",
            "\t\t\t<worsttexture flag=\"r\" p=\"0.81\" value=\"23.75\">0</worsttexture>\r\n",
            "\t\t</worstconcavepoints>\r\n",
            "\t</worstperimeter>\r\n",
            "\t<worstperimeter flag=\"r\" p=\"0.291\" value=\"114.6\">\r\n",
            "\t\t<meansmoothness flag=\"l\" p=\"0.009\" value=\"0.08206\">1</meansmoothness>\r\n",
            "\t\t<meansmoothness flag=\"r\" p=\"0.991\" value=\"0.08206\">\r\n",
            "\t\t\t<radiuserror flag=\"l\" p=\"0.009\" value=\"0.253\">1</radiuserror>\r\n",
            "\t\t\t<radiuserror flag=\"r\" p=\"0.991\" value=\"0.253\">\r\n",
            "\t\t\t\t<worstconcavepoints flag=\"l\" p=\"0.009\" value=\"0.09975\">1</worstconcavepoints>\r\n",
            "\t\t\t\t<worstconcavepoints flag=\"r\" p=\"0.991\" value=\"0.09975\">0</worstconcavepoints>\r\n",
            "\t\t\t</radiuserror>\r\n",
            "\t\t</meansmoothness>\r\n",
            "\t</worstperimeter>\r\n",
            "</DecisionTree>\r\n",
            "\n"
          ],
          "name": "stdout"
        }
      ]
    },
    {
      "cell_type": "markdown",
      "metadata": {
        "id": "rTSB2lupbL4j"
      },
      "source": [
        "###For CART decision tree"
      ]
    },
    {
      "cell_type": "code",
      "metadata": {
        "colab": {
          "base_uri": "https://localhost:8080/",
          "height": 502
        },
        "id": "bD3n7I5tDi0V",
        "outputId": "dd743912-7f6a-419f-f36e-0b556b1df644"
      },
      "source": [
        "#CART decision tree\r\n",
        "print(\"CART decision tree\")\r\n",
        "y_predCART = modelCART.predict(X_test)\r\n",
        "y_predCART_train = modelCART.predict(X_train)\r\n",
        "measuringAccuracy(y_train, y_test, y_predCART_train, y_predCART)\r\n",
        "plot_tree(modelCART)\r\n",
        "\r\n",
        "#Graphviz for drawing tree\r\n",
        "dot_data = export_graphviz(modelCART, out_file=None) \r\n",
        "graph = graphviz.Source(dot_data) \r\n",
        "graph.render(\"CART_Decision_tree_before_pruning\") "
      ],
      "execution_count": 16,
      "outputs": [
        {
          "output_type": "stream",
          "text": [
            "CART decision tree\n",
            "Accuracy with train data - 100.0\n",
            "Accuracy with test data - 95.32163742690058\n",
            "\n",
            "Report for test data\n",
            "               precision    recall  f1-score   support\n",
            "\n",
            "           0       0.96      0.93      0.94        69\n",
            "           1       0.95      0.97      0.96       102\n",
            "\n",
            "    accuracy                           0.95       171\n",
            "   macro avg       0.95      0.95      0.95       171\n",
            "weighted avg       0.95      0.95      0.95       171\n",
            "\n"
          ],
          "name": "stdout"
        },
        {
          "output_type": "execute_result",
          "data": {
            "application/vnd.google.colaboratory.intrinsic+json": {
              "type": "string"
            },
            "text/plain": [
              "'CART_Decision_tree_before_pruning.pdf'"
            ]
          },
          "metadata": {
            "tags": []
          },
          "execution_count": 16
        },
        {
          "output_type": "display_data",
          "data": {
            "image/png": "[encoded data removed]",
            "text/plain": [
              "<Figure size 432x288 with 1 Axes>"
            ]
          },
          "metadata": {
            "tags": [],
            "needs_background": "light"
          }
        }
      ]
    },
    {
      "cell_type": "markdown",
      "metadata": {
        "id": "w5iGSTlUdnSv"
      },
      "source": [
        "##Doing post-pruning for the decision trees \r\n",
        "This is done using Cost Complexity Pruning which is provided by sci-kit learn"
      ]
    },
    {
      "cell_type": "markdown",
      "metadata": {
        "id": "V2scQ1vpd3oy"
      },
      "source": [
        "###For ID3"
      ]
    },
    {
      "cell_type": "code",
      "metadata": {
        "colab": {
          "base_uri": "https://localhost:8080/",
          "height": 312
        },
        "id": "NkTOn0M_d6Yn",
        "outputId": "8d8a72bf-574f-405b-eab6-86152f60627a"
      },
      "source": [
        "#ID3 Decision tree classifier\r\n",
        "modelID3 = DecisionTreeClassifier(criterion = 'entropy', splitter = 'best', random_state = 100)\r\n",
        "\r\n",
        "#Calculatiing ccp_alphas\r\n",
        "path = modelID3.cost_complexity_pruning_path(X_train, y_train)\r\n",
        "ccp_alphas, impurities = path.ccp_alphas, path.impurities\r\n",
        "\r\n",
        "#Plotting ccp_alphas vs total impurity of the leaf nodes\r\n",
        "fig, ax = plt.subplots()\r\n",
        "ax.plot(ccp_alphas[:-1], impurities[:-1], marker='o', drawstyle=\"steps-post\")\r\n",
        "ax.set_xlabel(\"Effective alpha\")\r\n",
        "ax.set_ylabel(\"Total Impurity of leaves\")\r\n",
        "ax.set_title(\"Total Impurity vs Effective alpha for training set\")"
      ],
      "execution_count": 17,
      "outputs": [
        {
          "output_type": "execute_result",
          "data": {
            "text/plain": [
              "Text(0.5, 1.0, 'Total Impurity vs Effective alpha for training set')"
            ]
          },
          "metadata": {
            "tags": []
          },
          "execution_count": 17
        },
        {
          "output_type": "display_data",
          "data": {
            "image/png": "[encoded data removed]",
            "text/plain": [
              "<Figure size 432x288 with 1 Axes>"
            ]
          },
          "metadata": {
            "tags": [],
            "needs_background": "light"
          }
        }
      ]
    },
    {
      "cell_type": "code",
      "metadata": {
        "colab": {
          "base_uri": "https://localhost:8080/"
        },
        "id": "TvSt3-yZmB64",
        "outputId": "6aa122ba-e5e8-44c5-c405-cd6a3ccd8f8c"
      },
      "source": [
        "clfs = []\r\n",
        "for ccp_alpha in ccp_alphas:\r\n",
        "    clf = DecisionTreeClassifier(criterion = 'entropy', splitter = 'best', random_state = 100, ccp_alpha = ccp_alpha)\r\n",
        "    clf.fit(X_train, y_train)\r\n",
        "    clfs.append(clf)\r\n",
        "\r\n",
        "#Printing out the tree with just the root node\r\n",
        "print(\"Number of nodes in the last tree is {} with ccp_alpha = {}\".format(clfs[-1].tree_.node_count, ccp_alphas[-1]))"
      ],
      "execution_count": 18,
      "outputs": [
        {
          "output_type": "stream",
          "text": [
            "Number of nodes in the last tree is 1 with ccp_alpha = 0.5657584829243165\n"
          ],
          "name": "stdout"
        }
      ]
    },
    {
      "cell_type": "code",
      "metadata": {
        "colab": {
          "base_uri": "https://localhost:8080/",
          "height": 297
        },
        "id": "eIPpJR8kmHOs",
        "outputId": "8ac5ad82-0935-4ce3-caed-8bb89d60b504"
      },
      "source": [
        "#Getting rid of this trivial tree\r\n",
        "clfs = clfs[:-1]\r\n",
        "ccp_alphas = ccp_alphas[:-1]\r\n",
        "\r\n",
        "#Plotting number of nodes vs alpha and max depth vs alpha\r\n",
        "node_counts = [clf.tree_.node_count for clf in clfs]\r\n",
        "depth = [clf.tree_.max_depth for clf in clfs]\r\n",
        "fig, ax = plt.subplots(2, 1)\r\n",
        "ax[0].plot(ccp_alphas, node_counts, marker = 'o', drawstyle = \"steps-post\")\r\n",
        "ax[0].set_xlabel(\"alpha\")\r\n",
        "ax[0].set_ylabel(\"number of nodes\")\r\n",
        "ax[0].set_title(\"Number of nodes vs alpha\")\r\n",
        "ax[1].plot(ccp_alphas, depth, marker = 'o', drawstyle = \"steps-post\")\r\n",
        "ax[1].set_xlabel(\"alpha\")\r\n",
        "ax[1].set_ylabel(\"Depth of tree\")\r\n",
        "ax[1].set_title(\"Max Depth of the tree vs alpha\")\r\n",
        "fig.tight_layout()"
      ],
      "execution_count": 19,
      "outputs": [
        {
          "output_type": "display_data",
          "data": {
            "image/png": "[encoded data removed]",
            "text/plain": [
              "<Figure size 432x288 with 2 Axes>"
            ]
          },
          "metadata": {
            "tags": [],
            "needs_background": "light"
          }
        }
      ]
    },
    {
      "cell_type": "code",
      "metadata": {
        "colab": {
          "base_uri": "https://localhost:8080/",
          "height": 295
        },
        "id": "GFnQRrMVmIhd",
        "outputId": "52843c7e-0134-4437-a664-892c1bb2ec25"
      },
      "source": [
        "#Finding test and train prediction accuracy scores\r\n",
        "train_scores = [clf.score(X_train, y_train) for clf in clfs]\r\n",
        "test_scores = [clf.score(X_test, y_test) for clf in clfs]\r\n",
        "\r\n",
        "#Plotting accuracy vs alpha for test and train\r\n",
        "fig, ax = plt.subplots()\r\n",
        "ax.set_xlabel(\"alpha\")\r\n",
        "ax.set_ylabel(\"accuracy\")\r\n",
        "ax.set_title(\"Accuracy vs alpha for training and testing sets\")\r\n",
        "ax.plot(ccp_alphas, train_scores, marker='o', label=\"train\", drawstyle=\"steps-post\")\r\n",
        "ax.plot(ccp_alphas, test_scores, marker='o', label=\"test\", drawstyle=\"steps-post\")\r\n",
        "ax.legend()\r\n",
        "plt.show()"
      ],
      "execution_count": 20,
      "outputs": [
        {
          "output_type": "display_data",
          "data": {
            "image/png": "[encoded data removed]",
            "text/plain": [
              "<Figure size 432x288 with 1 Axes>"
            ]
          },
          "metadata": {
            "tags": [],
            "needs_background": "light"
          }
        }
      ]
    },
    {
      "cell_type": "code",
      "metadata": {
        "id": "ayLeQOx1mXUn"
      },
      "source": [
        "index_best_model = np.argmax(test_scores)\r\n",
        "modelID3 = clfs[index_best_model]"
      ],
      "execution_count": 21,
      "outputs": []
    },
    {
      "cell_type": "markdown",
      "metadata": {
        "id": "6jXrDQRId6xN"
      },
      "source": [
        "###For C4.5"
      ]
    },
    {
      "cell_type": "code",
      "metadata": {
        "id": "vyMJOre-d9N2"
      },
      "source": [
        "#Trying to find optimum depth \r\n",
        "clfs = []\r\n",
        "clfsTrain = []\r\n",
        "\r\n",
        "clf = C45(bcFeatureNames)\r\n",
        "clf.fit_fixed_depth(X_train, y_train, 1)\r\n",
        "clfs.append(accuracy_score(y_test, clf.predict(X_test)))\r\n",
        "clfsTrain.append(accuracy_score(y_train, clf.predict(X_train)))\r\n",
        "modelC45 = clf\r\n",
        "cur_acc = clfs[-1]\r\n",
        "depth = 1\r\n",
        "\r\n",
        "for i in range(2, 10):\r\n",
        "  clf = C45(bcFeatureNames)\r\n",
        "  clf.fit_fixed_depth(X_train, y_train, i)\r\n",
        "  clfs.append(accuracy_score(y_test, clf.predict(X_test)))\r\n",
        "  clfsTrain.append(accuracy_score(y_train, clf.predict(X_train)))\r\n",
        "  cur_acc_model = clfs[-1]\r\n",
        "  if cur_acc_model > cur_acc:\r\n",
        "    cur_acc = cur_acc_model\r\n",
        "    modelC45 = clf\r\n",
        "    depth = i\r\n",
        "\r\n",
        "x_axis = [i for i in range(1, 10)]"
      ],
      "execution_count": 22,
      "outputs": []
    },
    {
      "cell_type": "code",
      "metadata": {
        "colab": {
          "base_uri": "https://localhost:8080/",
          "height": 312
        },
        "id": "OIwHrpaLOZo6",
        "outputId": "5ea4734b-0440-4c50-afee-e5bab1d01162"
      },
      "source": [
        "#Plotting graph for max_depth \r\n",
        "fig, ax = plt.subplots()\r\n",
        "ax.plot(x_axis, clfs, marker='o', drawstyle=\"steps-post\", label = \"test\")\r\n",
        "ax.plot(x_axis, clfsTrain, marker='o', drawstyle=\"steps-post\", label = \"train\")\r\n",
        "ax.set_xlabel(\"Effective alpha\")\r\n",
        "ax.set_ylabel(\"Total Impurity of leaves\")\r\n",
        "ax.set_title(\"Total Impurity vs Effective alpha for training set\")"
      ],
      "execution_count": 23,
      "outputs": [
        {
          "output_type": "execute_result",
          "data": {
            "text/plain": [
              "Text(0.5, 1.0, 'Total Impurity vs Effective alpha for training set')"
            ]
          },
          "metadata": {
            "tags": []
          },
          "execution_count": 23
        },
        {
          "output_type": "display_data",
          "data": {
            "image/png": "[encoded data removed]",
            "text/plain": [
              "<Figure size 432x288 with 1 Axes>"
            ]
          },
          "metadata": {
            "tags": [],
            "needs_background": "light"
          }
        }
      ]
    },
    {
      "cell_type": "markdown",
      "metadata": {
        "id": "IsG9WzQsd9c2"
      },
      "source": [
        "###For CART"
      ]
    },
    {
      "cell_type": "code",
      "metadata": {
        "colab": {
          "base_uri": "https://localhost:8080/",
          "height": 312
        },
        "id": "X80-WlVAriX0",
        "outputId": "4d57fdb0-4e76-49c2-a6be-bb6d6fd4b84e"
      },
      "source": [
        "#CART Decision tree classifier\r\n",
        "modelCART = DecisionTreeClassifier(criterion = 'gini',splitter = 'best', random_state = 100)\r\n",
        "\r\n",
        "#Calculatiing ccp_alphas\r\n",
        "path = modelCART.cost_complexity_pruning_path(X_train, y_train)\r\n",
        "ccp_alphas, impurities = path.ccp_alphas, path.impurities\r\n",
        "\r\n",
        "#Plotting ccp_alphas vs total impurity of the leaf nodes\r\n",
        "fig, ax = plt.subplots()\r\n",
        "ax.plot(ccp_alphas[:-1], impurities[:-1], marker='o', drawstyle=\"steps-post\")\r\n",
        "ax.set_xlabel(\"Effective alpha\")\r\n",
        "ax.set_ylabel(\"Total Impurity of leaves\")\r\n",
        "ax.set_title(\"Total Impurity vs Effective alpha for training set\")"
      ],
      "execution_count": 24,
      "outputs": [
        {
          "output_type": "execute_result",
          "data": {
            "text/plain": [
              "Text(0.5, 1.0, 'Total Impurity vs Effective alpha for training set')"
            ]
          },
          "metadata": {
            "tags": []
          },
          "execution_count": 24
        },
        {
          "output_type": "display_data",
          "data": {
            "image/png": "[encoded data removed]",
            "text/plain": [
              "<Figure size 432x288 with 1 Axes>"
            ]
          },
          "metadata": {
            "tags": [],
            "needs_background": "light"
          }
        }
      ]
    },
    {
      "cell_type": "code",
      "metadata": {
        "colab": {
          "base_uri": "https://localhost:8080/"
        },
        "id": "COKvbjVgriX1",
        "outputId": "70425cfe-3bc4-4bee-aca3-673ca18b7246"
      },
      "source": [
        "clfs = []\r\n",
        "for ccp_alpha in ccp_alphas:\r\n",
        "    clf = DecisionTreeClassifier(criterion = 'gini',splitter = 'best', random_state = 100, ccp_alpha = ccp_alpha)\r\n",
        "    clf.fit(X_train, y_train)\r\n",
        "    clfs.append(clf)\r\n",
        "\r\n",
        "#Printing out the tree with just the root node\r\n",
        "print(\"Number of nodes in the last tree is {} with ccp_alpha = {}\".format(clfs[-1].tree_.node_count, ccp_alphas[-1]))"
      ],
      "execution_count": 25,
      "outputs": [
        {
          "output_type": "stream",
          "text": [
            "Number of nodes in the last tree is 1 with ccp_alpha = 0.32139929300012127\n"
          ],
          "name": "stdout"
        }
      ]
    },
    {
      "cell_type": "code",
      "metadata": {
        "colab": {
          "base_uri": "https://localhost:8080/",
          "height": 297
        },
        "id": "ThqbEA6YriX1",
        "outputId": "07baa22b-1bac-4f0d-e4ca-6a8e7e325b98"
      },
      "source": [
        "#Getting rid of this trivial tree\r\n",
        "clfs = clfs[:-1]\r\n",
        "ccp_alphas = ccp_alphas[:-1]\r\n",
        "\r\n",
        "#Plotting number of nodes vs alpha and max depth vs alpha\r\n",
        "node_counts = [clf.tree_.node_count for clf in clfs]\r\n",
        "depth = [clf.tree_.max_depth for clf in clfs]\r\n",
        "fig, ax = plt.subplots(2, 1)\r\n",
        "ax[0].plot(ccp_alphas, node_counts, marker = 'o', drawstyle = \"steps-post\")\r\n",
        "ax[0].set_xlabel(\"alpha\")\r\n",
        "ax[0].set_ylabel(\"number of nodes\")\r\n",
        "ax[0].set_title(\"Number of nodes vs alpha\")\r\n",
        "ax[1].plot(ccp_alphas, depth, marker = 'o', drawstyle = \"steps-post\")\r\n",
        "ax[1].set_xlabel(\"alpha\")\r\n",
        "ax[1].set_ylabel(\"Depth of tree\")\r\n",
        "ax[1].set_title(\"Max Depth of the tree vs alpha\")\r\n",
        "fig.tight_layout()"
      ],
      "execution_count": 26,
      "outputs": [
        {
          "output_type": "display_data",
          "data": {
            "image/png": "[encoded data removed]",
            "text/plain": [
              "<Figure size 432x288 with 2 Axes>"
            ]
          },
          "metadata": {
            "tags": [],
            "needs_background": "light"
          }
        }
      ]
    },
    {
      "cell_type": "code",
      "metadata": {
        "colab": {
          "base_uri": "https://localhost:8080/",
          "height": 295
        },
        "id": "4MCVXZzuriX2",
        "outputId": "ffc607b2-f515-4751-da90-fd83e46727b6"
      },
      "source": [
        "#Finding test and train prediction accuracy scores\r\n",
        "train_scores = [clf.score(X_train, y_train) for clf in clfs]\r\n",
        "test_scores = [clf.score(X_test, y_test) for clf in clfs]\r\n",
        "\r\n",
        "#Plotting accuracy vs alpha for test and train\r\n",
        "fig, ax = plt.subplots()\r\n",
        "ax.set_xlabel(\"alpha\")\r\n",
        "ax.set_ylabel(\"accuracy\")\r\n",
        "ax.set_title(\"Accuracy vs alpha for training and testing sets\")\r\n",
        "ax.plot(ccp_alphas, train_scores, marker='o', label=\"train\", drawstyle=\"steps-post\")\r\n",
        "ax.plot(ccp_alphas, test_scores, marker='o', label=\"test\", drawstyle=\"steps-post\")\r\n",
        "ax.legend()\r\n",
        "plt.show()"
      ],
      "execution_count": 27,
      "outputs": [
        {
          "output_type": "display_data",
          "data": {
            "image/png": "[encoded data removed]",
            "text/plain": [
              "<Figure size 432x288 with 1 Axes>"
            ]
          },
          "metadata": {
            "tags": [],
            "needs_background": "light"
          }
        }
      ]
    },
    {
      "cell_type": "code",
      "metadata": {
        "id": "x71CyJPWriX2"
      },
      "source": [
        "index_best_model = np.argmax(test_scores)\r\n",
        "modelCART = clfs[index_best_model]"
      ],
      "execution_count": 28,
      "outputs": []
    },
    {
      "cell_type": "markdown",
      "metadata": {
        "id": "76PtrcWXeFex"
      },
      "source": [
        "##Calculating accuracy and generating report for the different algorithms after pruning "
      ]
    },
    {
      "cell_type": "markdown",
      "metadata": {
        "id": "fUVse-k8eFe4"
      },
      "source": [
        "###For ID3 decision tree"
      ]
    },
    {
      "cell_type": "code",
      "metadata": {
        "colab": {
          "base_uri": "https://localhost:8080/",
          "height": 502
        },
        "id": "XmanJeX1eFe4",
        "outputId": "effa3722-0d5f-4b9a-c40f-fb255888a6df"
      },
      "source": [
        "#ID3 decision tree\r\n",
        "print(\"ID3 decision tree\")\r\n",
        "y_predID3 = modelID3.predict(X_test)\r\n",
        "y_predID3_train = modelID3.predict(X_train)\r\n",
        "measuringAccuracy(y_train, y_test, y_predID3_train, y_predID3)\r\n",
        "plot_tree(modelID3)\r\n",
        "\r\n",
        "#Graphviz for drawing tree\r\n",
        "dot_data = export_graphviz(modelID3, out_file=None) \r\n",
        "graph = graphviz.Source(dot_data) \r\n",
        "graph.render(\"ID3_Decision_tree_after_pruning\")"
      ],
      "execution_count": 29,
      "outputs": [
        {
          "output_type": "stream",
          "text": [
            "ID3 decision tree\n",
            "Accuracy with train data - 98.99497487437185\n",
            "Accuracy with test data - 93.56725146198829\n",
            "\n",
            "Report for test data\n",
            "               precision    recall  f1-score   support\n",
            "\n",
            "           0       0.95      0.88      0.92        69\n",
            "           1       0.93      0.97      0.95       102\n",
            "\n",
            "    accuracy                           0.94       171\n",
            "   macro avg       0.94      0.93      0.93       171\n",
            "weighted avg       0.94      0.94      0.94       171\n",
            "\n"
          ],
          "name": "stdout"
        },
        {
          "output_type": "execute_result",
          "data": {
            "application/vnd.google.colaboratory.intrinsic+json": {
              "type": "string"
            },
            "text/plain": [
              "'ID3_Decision_tree_after_pruning.pdf'"
            ]
          },
          "metadata": {
            "tags": []
          },
          "execution_count": 29
        },
        {
          "output_type": "display_data",
          "data": {
            "image/png": "[encoded data removed]",
            "text/plain": [
              "<Figure size 432x288 with 1 Axes>"
            ]
          },
          "metadata": {
            "tags": [],
            "needs_background": "light"
          }
        }
      ]
    },
    {
      "cell_type": "markdown",
      "metadata": {
        "id": "eRHIjnvfeFe5"
      },
      "source": [
        "###For C4.5 decision tree"
      ]
    },
    {
      "cell_type": "code",
      "metadata": {
        "colab": {
          "base_uri": "https://localhost:8080/"
        },
        "id": "jcs42yh8eFe5",
        "outputId": "1de8fd25-abd5-448d-dda2-b6f8337be6d4"
      },
      "source": [
        "#C45 decision tree\r\n",
        "print(\"C45 decision tree\")\r\n",
        "y_predictC45 = modelC45.predict(X_test)\r\n",
        "y_predictC45_train = modelC45.predict(X_train)\r\n",
        "measuringAccuracy(y_train , y_test, y_predictC45_train, y_predictC45)\r\n",
        "\r\n",
        "\r\n",
        "#Printing XML for the decision tree and copying into .txt file\r\n",
        "xmlC45String, xmlC45 = modelC45.printTree()\r\n",
        "print(xmlC45String)\r\n",
        "\r\n",
        "# Write xml into file\r\n",
        "with open('/content/C45_Decision_tree_after_pruning.txt', 'w') as writefile:\r\n",
        "  writefile.write(xmlC45String)"
      ],
      "execution_count": 30,
      "outputs": [
        {
          "output_type": "stream",
          "text": [
            "C45 decision tree\n",
            "Accuracy with train data - 91.70854271356784\n",
            "Accuracy with test data - 92.39766081871345\n",
            "\n",
            "Report for test data\n",
            "               precision    recall  f1-score   support\n",
            "\n",
            "           0       0.97      0.84      0.90        69\n",
            "           1       0.90      0.98      0.94       102\n",
            "\n",
            "    accuracy                           0.92       171\n",
            "   macro avg       0.93      0.91      0.92       171\n",
            "weighted avg       0.93      0.92      0.92       171\n",
            "\n",
            "<?xml version=\"1.0\" ?>\r\n",
            "<DecisionTree>\r\n",
            "\t<worstperimeter flag=\"l\" p=\"0.709\" value=\"114.6\">1</worstperimeter>\r\n",
            "\t<worstperimeter flag=\"r\" p=\"0.291\" value=\"114.6\">0</worstperimeter>\r\n",
            "</DecisionTree>\r\n",
            "\n"
          ],
          "name": "stdout"
        }
      ]
    },
    {
      "cell_type": "markdown",
      "metadata": {
        "id": "swoH9BdyeFe6"
      },
      "source": [
        "###For CART decision tree"
      ]
    },
    {
      "cell_type": "code",
      "metadata": {
        "colab": {
          "base_uri": "https://localhost:8080/",
          "height": 502
        },
        "id": "zjxMPbWaeFe6",
        "outputId": "bb9cbc95-da7a-4c47-8575-8cb2e16788d8"
      },
      "source": [
        "#CART decision tree\r\n",
        "print(\"CART decision tree\")\r\n",
        "y_predCART = modelCART.predict(X_test)\r\n",
        "y_predCART_train = modelCART.predict(X_train)\r\n",
        "measuringAccuracy(y_train, y_test, y_predCART_train, y_predCART)\r\n",
        "plot_tree(modelCART)\r\n",
        "\r\n",
        "#Graphviz for drawing tree\r\n",
        "dot_data = export_graphviz(modelCART, out_file=None) \r\n",
        "graph = graphviz.Source(dot_data) \r\n",
        "graph.render(\"CART_Decision_tree_after_pruning\") "
      ],
      "execution_count": 31,
      "outputs": [
        {
          "output_type": "stream",
          "text": [
            "CART decision tree\n",
            "Accuracy with train data - 99.2462311557789\n",
            "Accuracy with test data - 95.90643274853801\n",
            "\n",
            "Report for test data\n",
            "               precision    recall  f1-score   support\n",
            "\n",
            "           0       0.97      0.93      0.95        69\n",
            "           1       0.95      0.98      0.97       102\n",
            "\n",
            "    accuracy                           0.96       171\n",
            "   macro avg       0.96      0.95      0.96       171\n",
            "weighted avg       0.96      0.96      0.96       171\n",
            "\n"
          ],
          "name": "stdout"
        },
        {
          "output_type": "execute_result",
          "data": {
            "application/vnd.google.colaboratory.intrinsic+json": {
              "type": "string"
            },
            "text/plain": [
              "'CART_Decision_tree_after_pruning.pdf'"
            ]
          },
          "metadata": {
            "tags": []
          },
          "execution_count": 31
        },
        {
          "output_type": "display_data",
          "data": {
            "image/png": "[encoded data removed]",
            "text/plain": [
              "<Figure size 432x288 with 1 Axes>"
            ]
          },
          "metadata": {
            "tags": [],
            "needs_background": "light"
          }
        }
      ]
    }
  ]
}