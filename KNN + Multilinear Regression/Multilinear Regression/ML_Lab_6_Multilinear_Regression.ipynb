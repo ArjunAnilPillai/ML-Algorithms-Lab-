{
  "nbformat": 4,
  "nbformat_minor": 0,
  "metadata": {
    "colab": {
      "name": "ML Lab 6 - Multilinear Regression",
      "provenance": []
    },
    "kernelspec": {
      "name": "python3",
      "display_name": "Python 3"
    }
  },
  "cells": [
    {
      "cell_type": "markdown",
      "metadata": {
        "id": "zfD7rQbEaDbu"
      },
      "source": [
        "#Name - Arjun A.\r\n",
        "#Roll number - 181CO109\r\n",
        "#Date of submission - 26-02-2021\r\n",
        "This notebook was written in google colab. <br>Link to view notebook<br>\r\n",
        "https://colab.research.google.com/drive/1flPQKQyznxEp5kBDmfE15rUoFH70Tfr4?usp=sharing"
      ]
    },
    {
      "cell_type": "markdown",
      "metadata": {
        "id": "c8JXhHYVxmyy"
      },
      "source": [
        "#Machine Learning Lab 6\r\n",
        "This notebook is used to implement Multilinear regression using sci-kit learn on the boston dataset with 13 features "
      ]
    },
    {
      "cell_type": "markdown",
      "metadata": {
        "id": "BAomBnNkx3zf"
      },
      "source": [
        "##Importing necessary packages\r\n"
      ]
    },
    {
      "cell_type": "code",
      "metadata": {
        "id": "eGI7Bl9wk0sJ"
      },
      "source": [
        "from sklearn.model_selection import train_test_split\n",
        "from sklearn import linear_model\n",
        "import numpy as np \n",
        "import pandas as pd\n",
        "import matplotlib.pyplot as plt \n",
        "from sklearn import datasets"
      ],
      "execution_count": 1,
      "outputs": []
    },
    {
      "cell_type": "markdown",
      "metadata": {
        "id": "X5ttcfoMqncA"
      },
      "source": [
        "##Loading the dataset using sci-kit\n",
        "Loading and assigning the dataset using sci-kit learn "
      ]
    },
    {
      "cell_type": "code",
      "metadata": {
        "id": "Jpf3RlAxlDMw"
      },
      "source": [
        "data = datasets.load_boston()\n",
        "df = pd.DataFrame(data.data, columns=data.feature_names)\n",
        "target = pd.DataFrame(data.target, columns=['MEDV'])\n",
        "featNames = data.feature_names"
      ],
      "execution_count": 2,
      "outputs": []
    },
    {
      "cell_type": "code",
      "metadata": {
        "id": "Q0EiSs0dlJ35"
      },
      "source": [
        "X = df\n",
        "Y = target"
      ],
      "execution_count": 3,
      "outputs": []
    },
    {
      "cell_type": "markdown",
      "metadata": {
        "id": "QBkxAJfkby4j"
      },
      "source": [
        "##Splitting the data into train and test sets\r\n",
        " Splitting the data in the ratio of 7:3. (70% training and 30% testing)"
      ]
    },
    {
      "cell_type": "code",
      "metadata": {
        "id": "gBOcVcrbXZoa"
      },
      "source": [
        "def splitdataset(X, Y): \r\n",
        "\r\n",
        "  X_train, X_test, y_train, y_test = train_test_split(X, Y, test_size = 0.3, random_state = 100) #Specifying random_state to get the same dataset split everytime \r\n",
        "\t\r\n",
        "  return X, Y, X_train, X_test, y_train, y_test "
      ],
      "execution_count": 4,
      "outputs": []
    },
    {
      "cell_type": "code",
      "metadata": {
        "colab": {
          "base_uri": "https://localhost:8080/"
        },
        "id": "Xq7whDXkZyyv",
        "outputId": "3ce78416-fc85-40a6-a119-2497cbf049e0"
      },
      "source": [
        "X, Y, X_train, X_test, y_train, y_test = splitdataset(X, Y)\r\n",
        "\r\n",
        "#Use to print the entire dataset\r\n",
        "#print(X, Y, X_train, X_test, y_train, y_test, sep = '\\n\\n')\r\n",
        "\r\n",
        "#Printing size of the split\r\n",
        "print('Test dataset size\\nX_test -', len(X_test), '\\ny_test -', len(y_test), '\\n')\r\n",
        "print('Train dataset size\\nX_train -', len(X_train), '\\ny_train -', len(y_train))"
      ],
      "execution_count": 5,
      "outputs": [
        {
          "output_type": "stream",
          "text": [
            "Test dataset size\n",
            "X_test - 152 \n",
            "y_test - 152 \n",
            "\n",
            "Train dataset size\n",
            "X_train - 354 \n",
            "y_train - 354\n"
          ],
          "name": "stdout"
        }
      ]
    },
    {
      "cell_type": "markdown",
      "metadata": {
        "id": "SQ_JZgZ5rln4"
      },
      "source": [
        "##Training the model\r\n",
        "Using sci-kit, training the model to obtain a hyperplane."
      ]
    },
    {
      "cell_type": "code",
      "metadata": {
        "id": "Zh9CctS1lpNS"
      },
      "source": [
        "lm = linear_model.LinearRegression()\n",
        "model = lm.fit(X_train,y_train)"
      ],
      "execution_count": 6,
      "outputs": []
    },
    {
      "cell_type": "markdown",
      "metadata": {
        "id": "WUym8ftYr1Pe"
      },
      "source": [
        "##The equation of the hyperplane\r\n",
        "Printing the equation of the hyperplane. "
      ]
    },
    {
      "cell_type": "code",
      "metadata": {
        "colab": {
          "base_uri": "https://localhost:8080/"
        },
        "id": "FrVBiRuNmGir",
        "outputId": "425b677c-8be6-416b-d282-ca9d545a1d82"
      },
      "source": [
        "coeff = list(zip(lm.coef_[0], featNames))\r\n",
        "intercept = list(lm.intercept_)\r\n",
        "print('MEDV(i.e Y) =', intercept[0], end = ' ')\r\n",
        "for i in coeff:\r\n",
        "  print('+', '({} * {})'.format(i[0], i[1]), end = ' ')"
      ],
      "execution_count": 7,
      "outputs": [
        {
          "output_type": "stream",
          "text": [
            "MEDV(i.e Y) = 33.11584094298638 + (-0.07691756925640306 * CRIM) + (0.039552749675338394 * ZN) + (-0.006098898013596913 * INDUS) + (2.630349585587033 * CHAS) + (-13.141617825144108 * NOX) + (3.844180050780866 * RM) + (-0.012062492471451565 * AGE) + (-1.376262931558599 * DIS) + (0.28392531882068406 * RAD) + (-0.0140640196648305 * TAX) + (-0.918566329882869 * PTRATIO) + (0.010578311632220418 * B) + (-0.4379604594114806 * LSTAT) "
          ],
          "name": "stdout"
        }
      ]
    },
    {
      "cell_type": "markdown",
      "metadata": {
        "id": "Up9Y1xqOsDX1"
      },
      "source": [
        "##Printing accuracy related measures\r\n",
        "Test error on the test data is to be computed. "
      ]
    },
    {
      "cell_type": "code",
      "metadata": {
        "id": "HsiqBHZrAmpb"
      },
      "source": [
        "#Function for finding accuracy \r\n",
        "def measuringAccuracy(y, yp):\r\n",
        "  y = y.to_numpy()\r\n",
        "  countEntries = np.count_nonzero(y > 0, axis = 0)[0]\r\n",
        "  ymean = np.sum(y, axis = 0)[0]/countEntries\r\n",
        "  sumnormal, sumsq, sumrelnormal, sumrelsq = 0, 0, 0, 0\r\n",
        "  for i in range(countEntries):\r\n",
        "    sumnormal += abs(yp[i][0] - y[i][0])\r\n",
        "    sumsq += (yp[i][0] - y[i][0]) ** 2\r\n",
        "    sumrelnormal += abs(y[i][0] - ymean)\r\n",
        "    sumrelsq += (y[i][0] - ymean) ** 2\r\n",
        "\r\n",
        "  mae = round((sumnormal/countEntries), 4)\r\n",
        "  mse = round((sumsq/countEntries), 4)\r\n",
        "  rae = round((sumnormal/sumrelnormal), 4)\r\n",
        "  rse = round((sumsq/sumrelsq), 4)\r\n",
        "  rmse = round(((sumsq/countEntries)**0.5), 4)\r\n",
        "  rrse = round(((sumsq/sumrelsq)**0.5), 4)\r\n",
        "\r\n",
        "  print('Mean Absoulte Error =', mae)\r\n",
        "  print('Mean Squared Error =', mse)\r\n",
        "  print('Relative Absoulte Error =', rae)\r\n",
        "  print('Relative Squared Error =', rse)\r\n",
        "  print('Root Mean Squared Error = ', rmse)\r\n",
        "  print('Root Relative Squared Error = ', rrse)"
      ],
      "execution_count": 8,
      "outputs": []
    },
    {
      "cell_type": "code",
      "metadata": {
        "id": "nyFVF8o2lz1e",
        "colab": {
          "base_uri": "https://localhost:8080/"
        },
        "outputId": "b28f5f98-496f-4c59-b65d-c4ec093929ac"
      },
      "source": [
        "y_predict = lm.predict(X_test)\r\n",
        "measuringAccuracy(y_test, y_predict)"
      ],
      "execution_count": 9,
      "outputs": [
        {
          "output_type": "stream",
          "text": [
            "Mean Absoulte Error = 3.4719\n",
            "Mean Squared Error = 29.7988\n",
            "Relative Absoulte Error = 0.478\n",
            "Relative Squared Error = 0.2942\n",
            "Root Mean Squared Error =  5.4588\n",
            "Root Relative Squared Error =  0.5424\n"
          ],
          "name": "stdout"
        }
      ]
    },
    {
      "cell_type": "code",
      "metadata": {
        "colab": {
          "base_uri": "https://localhost:8080/"
        },
        "id": "XczRhC8vl2qB",
        "outputId": "df43d2af-1b8a-4586-8b47-9d6fa5e8f469"
      },
      "source": [
        "print(\"R-squared score is:\",lm.score(X_test,y_test))"
      ],
      "execution_count": 10,
      "outputs": [
        {
          "output_type": "stream",
          "text": [
            "R-squared score is: 0.7057919873264549\n"
          ],
          "name": "stdout"
        }
      ]
    }
  ]
}