{
  "nbformat": 4,
  "nbformat_minor": 0,
  "metadata": {
    "colab": {
      "name": "ML Lab 6 - KNN algorithm",
      "provenance": [],
      "toc_visible": true
    },
    "kernelspec": {
      "name": "python3",
      "display_name": "Python 3"
    }
  },
  "cells": [
    {
      "cell_type": "markdown",
      "metadata": {
        "id": "zfD7rQbEaDbu"
      },
      "source": [
        "#Name - Arjun A.\r\n",
        "#Roll number - 181CO109\r\n",
        "#Date of submission - 26-02-2021\r\n",
        "This notebook was written in google colab. <br>Link to view notebook<br>\r\n",
        "https://colab.research.google.com/drive/19wD264NWDtmadec5Wo2f-4M_zLy3apVI?usp=sharing"
      ]
    },
    {
      "cell_type": "markdown",
      "metadata": {
        "id": "LpZRvlqrLM1g"
      },
      "source": [
        "#ML Lab 6 - KNN algorithm\r\n",
        "This notebook is used to implement the kth Nearest Neighbours algorithm to classify the iris dataset. "
      ]
    },
    {
      "cell_type": "markdown",
      "metadata": {
        "id": "hfmdtJRBik33"
      },
      "source": [
        "##Importing necessary packages\r\n"
      ]
    },
    {
      "cell_type": "code",
      "metadata": {
        "id": "3B4W9XOzgc1V"
      },
      "source": [
        "from sklearn.neighbors import KNeighborsClassifier \n",
        "from sklearn.model_selection import train_test_split \n",
        "from sklearn.datasets import load_iris \n",
        "from sklearn.metrics import confusion_matrix\n",
        "import numpy as np \n",
        "import matplotlib.pyplot as plt "
      ],
      "execution_count": 1,
      "outputs": []
    },
    {
      "cell_type": "markdown",
      "metadata": {
        "id": "At23KgJbsNbZ"
      },
      "source": [
        "##Loading the iris dataset"
      ]
    },
    {
      "cell_type": "code",
      "metadata": {
        "id": "B2Dpj-V8ggvC"
      },
      "source": [
        "irisData = load_iris() \n",
        "X = irisData.data \n",
        "y = irisData.target "
      ],
      "execution_count": 2,
      "outputs": []
    },
    {
      "cell_type": "markdown",
      "metadata": {
        "id": "QBkxAJfkby4j"
      },
      "source": [
        "##Splitting the data into train and test sets\r\n",
        " Splitting the data in the ratio of 7:3. (70% training and 30% testing)"
      ]
    },
    {
      "cell_type": "code",
      "metadata": {
        "id": "gBOcVcrbXZoa"
      },
      "source": [
        "def splitdataset(X, Y): \r\n",
        "\r\n",
        "  X_train, X_test, y_train, y_test = train_test_split(X, Y, test_size = 0.3, random_state = 100) #Specifying random_state to get the same dataset split everytime \r\n",
        "\t\r\n",
        "  return X, Y, X_train, X_test, y_train, y_test "
      ],
      "execution_count": 3,
      "outputs": []
    },
    {
      "cell_type": "code",
      "metadata": {
        "colab": {
          "base_uri": "https://localhost:8080/"
        },
        "id": "Xq7whDXkZyyv",
        "outputId": "6fb4cd7a-687a-43ef-ad0d-133531eefa32"
      },
      "source": [
        "X, Y, X_train, X_test, y_train, y_test = splitdataset(X, y)\r\n",
        "\r\n",
        "#Use to print the entire dataset\r\n",
        "#print(X, Y, X_train, X_test, y_train, y_test, sep = '\\n\\n')\r\n",
        "\r\n",
        "#Printing size of the split\r\n",
        "print('Test dataset size\\nX_test -', len(X_test), '\\ny_test -', len(y_test), '\\n')\r\n",
        "print('Train dataset size\\nX_train -', len(X_train), '\\ny_train -', len(y_train))"
      ],
      "execution_count": 4,
      "outputs": [
        {
          "output_type": "stream",
          "text": [
            "Test dataset size\n",
            "X_test - 45 \n",
            "y_test - 45 \n",
            "\n",
            "Train dataset size\n",
            "X_train - 105 \n",
            "y_train - 105\n"
          ],
          "name": "stdout"
        }
      ]
    },
    {
      "cell_type": "markdown",
      "metadata": {
        "id": "BjK-LmB_uFK2"
      },
      "source": [
        "##Considering all k values from 1 to 10"
      ]
    },
    {
      "cell_type": "code",
      "metadata": {
        "id": "iXaaCDo5gj2M"
      },
      "source": [
        "knn = []\n",
        "for i in range(1, 11):\n",
        "  knnModel = KNeighborsClassifier(n_neighbors=i, metric = 'euclidean')\n",
        "  knn.append(knnModel) "
      ],
      "execution_count": 5,
      "outputs": []
    },
    {
      "cell_type": "markdown",
      "metadata": {
        "id": "kYNwLaAGsRyG"
      },
      "source": [
        "##Training all models on the train dataset"
      ]
    },
    {
      "cell_type": "code",
      "metadata": {
        "id": "fTfeGLjLgm8f"
      },
      "source": [
        "for i in range(10):\n",
        "  knn[i].fit(X_train, y_train) "
      ],
      "execution_count": 6,
      "outputs": []
    },
    {
      "cell_type": "markdown",
      "metadata": {
        "id": "JXFKQnNquSgN"
      },
      "source": [
        "##Finding accuracy for all models using the test dataset"
      ]
    },
    {
      "cell_type": "code",
      "metadata": {
        "colab": {
          "base_uri": "https://localhost:8080/"
        },
        "id": "lyR9KzEFsXY9",
        "outputId": "945312c7-9855-4925-8494-6f827b6f46eb"
      },
      "source": [
        "accuracyKNN = []\r\n",
        "for i in range(10):\r\n",
        "  print('k = {}'.format(i + 1))\r\n",
        "  print(knn[i])\r\n",
        "  accuracyKNN.append(knn[i].score(X_test, y_test))\r\n",
        "  y_pred = knn[i].predict(X_test)\r\n",
        "  print(confusion_matrix(y_test, y_pred))\r\n",
        "  print()"
      ],
      "execution_count": 7,
      "outputs": [
        {
          "output_type": "stream",
          "text": [
            "k = 1\n",
            "KNeighborsClassifier(algorithm='auto', leaf_size=30, metric='euclidean',\n",
            "                     metric_params=None, n_jobs=None, n_neighbors=1, p=2,\n",
            "                     weights='uniform')\n",
            "[[16  0  0]\n",
            " [ 0 11  0]\n",
            " [ 0  1 17]]\n",
            "\n",
            "k = 2\n",
            "KNeighborsClassifier(algorithm='auto', leaf_size=30, metric='euclidean',\n",
            "                     metric_params=None, n_jobs=None, n_neighbors=2, p=2,\n",
            "                     weights='uniform')\n",
            "[[16  0  0]\n",
            " [ 0 11  0]\n",
            " [ 0  1 17]]\n",
            "\n",
            "k = 3\n",
            "KNeighborsClassifier(algorithm='auto', leaf_size=30, metric='euclidean',\n",
            "                     metric_params=None, n_jobs=None, n_neighbors=3, p=2,\n",
            "                     weights='uniform')\n",
            "[[16  0  0]\n",
            " [ 0 11  0]\n",
            " [ 0  1 17]]\n",
            "\n",
            "k = 4\n",
            "KNeighborsClassifier(algorithm='auto', leaf_size=30, metric='euclidean',\n",
            "                     metric_params=None, n_jobs=None, n_neighbors=4, p=2,\n",
            "                     weights='uniform')\n",
            "[[16  0  0]\n",
            " [ 0 11  0]\n",
            " [ 0  2 16]]\n",
            "\n",
            "k = 5\n",
            "KNeighborsClassifier(algorithm='auto', leaf_size=30, metric='euclidean',\n",
            "                     metric_params=None, n_jobs=None, n_neighbors=5, p=2,\n",
            "                     weights='uniform')\n",
            "[[16  0  0]\n",
            " [ 0 11  0]\n",
            " [ 0  1 17]]\n",
            "\n",
            "k = 6\n",
            "KNeighborsClassifier(algorithm='auto', leaf_size=30, metric='euclidean',\n",
            "                     metric_params=None, n_jobs=None, n_neighbors=6, p=2,\n",
            "                     weights='uniform')\n",
            "[[16  0  0]\n",
            " [ 0 11  0]\n",
            " [ 0  1 17]]\n",
            "\n",
            "k = 7\n",
            "KNeighborsClassifier(algorithm='auto', leaf_size=30, metric='euclidean',\n",
            "                     metric_params=None, n_jobs=None, n_neighbors=7, p=2,\n",
            "                     weights='uniform')\n",
            "[[16  0  0]\n",
            " [ 0 11  0]\n",
            " [ 0  0 18]]\n",
            "\n",
            "k = 8\n",
            "KNeighborsClassifier(algorithm='auto', leaf_size=30, metric='euclidean',\n",
            "                     metric_params=None, n_jobs=None, n_neighbors=8, p=2,\n",
            "                     weights='uniform')\n",
            "[[16  0  0]\n",
            " [ 0 11  0]\n",
            " [ 0  1 17]]\n",
            "\n",
            "k = 9\n",
            "KNeighborsClassifier(algorithm='auto', leaf_size=30, metric='euclidean',\n",
            "                     metric_params=None, n_jobs=None, n_neighbors=9, p=2,\n",
            "                     weights='uniform')\n",
            "[[16  0  0]\n",
            " [ 0 11  0]\n",
            " [ 0  0 18]]\n",
            "\n",
            "k = 10\n",
            "KNeighborsClassifier(algorithm='auto', leaf_size=30, metric='euclidean',\n",
            "                     metric_params=None, n_jobs=None, n_neighbors=10, p=2,\n",
            "                     weights='uniform')\n",
            "[[16  0  0]\n",
            " [ 0 11  0]\n",
            " [ 0  0 18]]\n",
            "\n"
          ],
          "name": "stdout"
        }
      ]
    },
    {
      "cell_type": "code",
      "metadata": {
        "colab": {
          "base_uri": "https://localhost:8080/",
          "height": 295
        },
        "id": "61o5hh7JHzML",
        "outputId": "9d55abe7-cb46-4d66-ce64-0ddaae8d1e0c"
      },
      "source": [
        "fig = plt.figure()\r\n",
        "ax = plt.axes()\r\n",
        "plt.plot([1,2,3,4,5,6,7,8,9,10], accuracyKNN, label = 'Accuracy')\r\n",
        "plt.xlabel('K (number of neighbours)')\r\n",
        "plt.ylabel('Mean accuracy for test set')\r\n",
        "plt.title('Accuracy vs K')\r\n",
        "plt.legend()\r\n",
        "plt.savefig('181CO109 KNN accuracy graph.pdf')\r\n",
        "plt.show()"
      ],
      "execution_count": 8,
      "outputs": [
        {
          "output_type": "display_data",
          "data": {
            "image/png": "[encoded data removed]",
            "text/plain": [
              "<Figure size 432x288 with 1 Axes>"
            ]
          },
          "metadata": {
            "tags": [],
            "needs_background": "light"
          }
        }
      ]
    }
  ]
}